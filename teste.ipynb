{
 "cells": [
  {
   "cell_type": "code",
   "execution_count": 1,
   "metadata": {},
   "outputs": [],
   "source": [
    "import pandas as pd\n",
    "\n",
    "from src.pipelines import pipeline_data_collection, pipeline_data_processing\n",
    "\n",
    "pd.set_option('display.max_columns', 50)"
   ]
  },
  {
   "cell_type": "markdown",
   "metadata": {},
   "source": [
    "# Data collection"
   ]
  },
  {
   "cell_type": "code",
   "execution_count": 2,
   "metadata": {},
   "outputs": [
    {
     "name": "stdout",
     "output_type": "stream",
     "text": [
      "ID:220526, 2024-05: 20 registros\n",
      "ID:178873, 2024-05: 6 registros\n",
      "ID:220527, 2024-05: 2 registros\n",
      "ID:220530, 2024-05: 6 registros\n",
      "ID:160517, 2024-05: 4 registros\n",
      "ID:220528, 2024-05: 11 registros\n",
      "ID:204356, 2024-05: 0 registros\n",
      "ID:204355, 2024-05: 17 registros\n",
      "ID:178871, 2024-05: 1 registros\n",
      "ID:220529, 2024-05: 6 registros\n"
     ]
    }
   ],
   "source": [
    "update_tables = dict(despesas=True, \n",
    "                     deputados=False)\n",
    "id_deputados_to_fetch = [220526, 178873, 220527, 220530, 160517, \n",
    "                         220528, 204356, 204355, 178871, 220529]\n",
    "start_date = '2024-05-01'\n",
    "end_date = '2024-05-01'\n",
    "\n",
    "pipeline_data_collection(update_tables, id_deputados_to_fetch, start_date, end_date)"
   ]
  },
  {
   "cell_type": "code",
   "execution_count": 3,
   "metadata": {},
   "outputs": [],
   "source": [
    "update_tables = dict(despesas=True, \n",
    "                     deputados=True)\n",
    "\n",
    "pipeline_data_processing(update_tables)"
   ]
  },
  {
   "cell_type": "code",
   "execution_count": null,
   "metadata": {},
   "outputs": [],
   "source": [
    "deputados = pd.read_parquet('data/cleansed/deputados.parquet')\n",
    "print(deputados.shape)\n",
    "\n",
    "despesas = pd.read_parquet('data/cleansed/despesas.parquet')\n",
    "print(despesas.shape)\n",
    "\n",
    "df = pd.merge(despesas, deputados, how='left', \n",
    "              left_on='id_deputado', right_index=True)\n",
    "print(df.shape)"
   ]
  },
  {
   "cell_type": "code",
   "execution_count": null,
   "metadata": {},
   "outputs": [],
   "source": [
    "import plotly.graph_objects as go\n",
    "import plotly.express as px"
   ]
  },
  {
   "cell_type": "code",
   "execution_count": null,
   "metadata": {},
   "outputs": [],
   "source": [
    "tmp = df.groupby(['id_deputado', 'ano_mes'])[['valorDocumento']].sum()\n",
    "tmp.reset_index(inplace=True)\n",
    "tmp = pd.merge(tmp, deputados, how='left', left_on='id_deputado', right_index=True)"
   ]
  },
  {
   "cell_type": "code",
   "execution_count": null,
   "metadata": {},
   "outputs": [],
   "source": [
    "px.bar(df.loc[df['ano_mes']=='2024_04'], x='nome', y='valorDocumento', color='tipoDespesa')"
   ]
  },
  {
   "cell_type": "code",
   "execution_count": null,
   "metadata": {},
   "outputs": [],
   "source": [
    "df.groupby('nomeFornecedor')['valorDocumento'].sum().sort_values(ascending=False).head(10)"
   ]
  },
  {
   "cell_type": "code",
   "execution_count": null,
   "metadata": {},
   "outputs": [],
   "source": [
    "df.loc[(df['nome'].str.contains('Linhalis')) & (df['ano_mes']=='2023_12') & (df['valorDocumento'].between(10000, 13000)), ['urlDocumento']].values"
   ]
  },
  {
   "cell_type": "code",
   "execution_count": null,
   "metadata": {},
   "outputs": [],
   "source": [
    "px.line(tmp, x='ano_mes', y='valorDocumento', color='nome')"
   ]
  },
  {
   "cell_type": "code",
   "execution_count": null,
   "metadata": {},
   "outputs": [],
   "source": [
    "import plotly.graph_objects as go\n",
    "import plotly.express as px\n",
    "tmp = df.groupby(['id_deputado', 'ano_mes'])[['valorDocumento']].sum()\n",
    "\n",
    "fig = go.Figure()\n",
    "for k, tmpdf in df.groupby(['id_deputado']):\n",
    "    px.line(tmp.loc[dep], y='valorDocumento')\n",
    "    # fig.add_trace(px.line(tmp.loc[dep], y='valorDocumento'))\n",
    "fig.show()"
   ]
  },
  {
   "cell_type": "markdown",
   "metadata": {},
   "source": [
    "# Rascunho"
   ]
  },
  {
   "cell_type": "code",
   "execution_count": null,
   "metadata": {},
   "outputs": [],
   "source": [
    "def pipeline_data_collection():\n",
    "    info_datasets = {} # config\n",
    "    reprocessing_status = {}\n",
    "    for dataset in info_datasets.keys():\n",
    "        df = collect_data(dataset)\n",
    "        reprocessing_status[dataset] = get_reprocessing_status()\n",
    "        if reprocessing_status[dataset]:\n",
    "            save_data(df)\n",
    "\n",
    "    save_data(reprocessing_status)"
   ]
  },
  {
   "cell_type": "code",
   "execution_count": null,
   "metadata": {},
   "outputs": [],
   "source": [
    "def pipeline_data_processing():\n",
    "    \n",
    "    process_deputados()\n",
    "    process_despesas()"
   ]
  },
  {
   "cell_type": "code",
   "execution_count": null,
   "metadata": {},
   "outputs": [],
   "source": [
    "pipeline_data_collection()\n",
    "\n",
    "pipeline_data_processing()\n",
    "\n",
    "update_website()"
   ]
  }
 ],
 "metadata": {
  "kernelspec": {
   "display_name": "Python 3",
   "language": "python",
   "name": "python3"
  },
  "language_info": {
   "codemirror_mode": {
    "name": "ipython",
    "version": 3
   },
   "file_extension": ".py",
   "mimetype": "text/x-python",
   "name": "python",
   "nbconvert_exporter": "python",
   "pygments_lexer": "ipython3",
   "version": "3.12.3"
  }
 },
 "nbformat": 4,
 "nbformat_minor": 2
}

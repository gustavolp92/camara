{
 "cells": [
  {
   "cell_type": "code",
   "execution_count": 1,
   "metadata": {},
   "outputs": [],
   "source": [
    "import pandas as pd\n",
    "\n",
    "from src.pipelines import pipeline_data_collection, pipeline_data_processing\n",
    "\n",
    "pd.set_option('display.max_columns', 50)"
   ]
  },
  {
   "cell_type": "markdown",
   "metadata": {},
   "source": [
    "# Data collection"
   ]
  },
  {
   "cell_type": "code",
   "execution_count": 2,
   "metadata": {},
   "outputs": [
    {
     "name": "stdout",
     "output_type": "stream",
     "text": [
      "ID:220526, 2024-05: 30 registros\n",
      "ID:178873, 2024-05: 4 registros\n",
      "ID:220527, 2024-05: 3 registros\n",
      "ID:220530, 2024-05: 19 registros\n",
      "ID:160517, 2024-05: 4 registros\n",
      "ID:220528, 2024-05: 10 registros\n",
      "ID:204356, 2024-05: 2 registros\n",
      "ID:204355, 2024-05: 18 registros\n",
      "ID:178871, 2024-05: 6 registros\n",
      "ID:220529, 2024-05: 12 registros\n"
     ]
    }
   ],
   "source": [
    "update_tables = dict(despesas=True, \n",
    "                     deputados=False)\n",
    "id_deputados_to_fetch = [220526, 178873, 220527, 220530, 160517, \n",
    "                         220528, 204356, 204355, 178871, 220529]\n",
    "start_date = '2024-05-01'\n",
    "end_date = '2024-05-01'\n",
    "\n",
    "pipeline_data_collection(update_tables, id_deputados_to_fetch, start_date, end_date)"
   ]
  },
  {
   "cell_type": "markdown",
   "metadata": {},
   "source": [
    "# Data preprocessing"
   ]
  },
  {
   "cell_type": "code",
   "execution_count": 3,
   "metadata": {},
   "outputs": [
    {
     "name": "stdout",
     "output_type": "stream",
     "text": [
      "Table shape: (4827, 28)\n"
     ]
    }
   ],
   "source": [
    "update_tables = dict(despesas=True, \n",
    "                     deputados=False)\n",
    "\n",
    "pipeline_data_processing(update_tables)"
   ]
  },
  {
   "cell_type": "markdown",
   "metadata": {},
   "source": [
    "# tests"
   ]
  },
  {
   "cell_type": "code",
   "execution_count": 4,
   "metadata": {},
   "outputs": [],
   "source": [
    "df = pd.read_parquet('data/gold/master_table.parquet')"
   ]
  },
  {
   "cell_type": "code",
   "execution_count": 5,
   "metadata": {},
   "outputs": [
    {
     "data": {
      "text/html": [
       "<div>\n",
       "<style scoped>\n",
       "    .dataframe tbody tr th:only-of-type {\n",
       "        vertical-align: middle;\n",
       "    }\n",
       "\n",
       "    .dataframe tbody tr th {\n",
       "        vertical-align: top;\n",
       "    }\n",
       "\n",
       "    .dataframe thead th {\n",
       "        text-align: right;\n",
       "    }\n",
       "</style>\n",
       "<table border=\"1\" class=\"dataframe\">\n",
       "  <thead>\n",
       "    <tr style=\"text-align: right;\">\n",
       "      <th></th>\n",
       "      <th>ano</th>\n",
       "      <th>mes</th>\n",
       "      <th>tipoDespesa</th>\n",
       "      <th>codDocumento</th>\n",
       "      <th>tipoDocumento</th>\n",
       "      <th>codTipoDocumento</th>\n",
       "      <th>dataDocumento</th>\n",
       "      <th>numDocumento</th>\n",
       "      <th>valorDocumento</th>\n",
       "      <th>urlDocumento</th>\n",
       "      <th>nomeFornecedor</th>\n",
       "      <th>cnpjCpfFornecedor</th>\n",
       "      <th>valorLiquido</th>\n",
       "      <th>valorGlosa</th>\n",
       "      <th>numRessarcimento</th>\n",
       "      <th>codLote</th>\n",
       "      <th>parcela</th>\n",
       "      <th>id_deputado</th>\n",
       "      <th>ano_mes</th>\n",
       "      <th>uri</th>\n",
       "      <th>nome</th>\n",
       "      <th>siglaPartido</th>\n",
       "      <th>uriPartido</th>\n",
       "      <th>siglaUf</th>\n",
       "      <th>idLegislatura</th>\n",
       "      <th>urlFoto</th>\n",
       "      <th>email</th>\n",
       "      <th>Valor</th>\n",
       "    </tr>\n",
       "  </thead>\n",
       "  <tbody>\n",
       "    <tr>\n",
       "      <th>0</th>\n",
       "      <td>2023</td>\n",
       "      <td>2</td>\n",
       "      <td>COMBUSTÍVEIS E LUBRIFICANTES.</td>\n",
       "      <td>7494371</td>\n",
       "      <td>Nota Fiscal Eletrônica</td>\n",
       "      <td>4</td>\n",
       "      <td>2023-02-01</td>\n",
       "      <td>317169</td>\n",
       "      <td>200.0</td>\n",
       "      <td>http://www.camara.leg.br/cota-parlamentar/nota...</td>\n",
       "      <td>AUTO POSTO GOLDEN GAS 202 LTDA.</td>\n",
       "      <td>30880112000145</td>\n",
       "      <td>200.0</td>\n",
       "      <td>0.0</td>\n",
       "      <td></td>\n",
       "      <td>1906755</td>\n",
       "      <td>0</td>\n",
       "      <td>220526</td>\n",
       "      <td>2023_02</td>\n",
       "      <td>https://dadosabertos.camara.leg.br/api/v2/depu...</td>\n",
       "      <td>Gilvan da Federal</td>\n",
       "      <td>PL</td>\n",
       "      <td>https://dadosabertos.camara.leg.br/api/v2/part...</td>\n",
       "      <td>ES</td>\n",
       "      <td>57</td>\n",
       "      <td>https://www.camara.leg.br/internet/deputado/ba...</td>\n",
       "      <td>dep.gilvandafederal@camara.leg.br</td>\n",
       "      <td>200.0</td>\n",
       "    </tr>\n",
       "  </tbody>\n",
       "</table>\n",
       "</div>"
      ],
      "text/plain": [
       "    ano  mes                    tipoDespesa  codDocumento  \\\n",
       "0  2023    2  COMBUSTÍVEIS E LUBRIFICANTES.       7494371   \n",
       "\n",
       "            tipoDocumento  codTipoDocumento dataDocumento numDocumento  \\\n",
       "0  Nota Fiscal Eletrônica                 4    2023-02-01       317169   \n",
       "\n",
       "   valorDocumento                                       urlDocumento  \\\n",
       "0           200.0  http://www.camara.leg.br/cota-parlamentar/nota...   \n",
       "\n",
       "                    nomeFornecedor cnpjCpfFornecedor  valorLiquido  \\\n",
       "0  AUTO POSTO GOLDEN GAS 202 LTDA.    30880112000145         200.0   \n",
       "\n",
       "   valorGlosa numRessarcimento  codLote  parcela  id_deputado  ano_mes  \\\n",
       "0         0.0                   1906755        0       220526  2023_02   \n",
       "\n",
       "                                                 uri               nome  \\\n",
       "0  https://dadosabertos.camara.leg.br/api/v2/depu...  Gilvan da Federal   \n",
       "\n",
       "  siglaPartido                                         uriPartido siglaUf  \\\n",
       "0           PL  https://dadosabertos.camara.leg.br/api/v2/part...      ES   \n",
       "\n",
       "   idLegislatura                                            urlFoto  \\\n",
       "0             57  https://www.camara.leg.br/internet/deputado/ba...   \n",
       "\n",
       "                               email  Valor  \n",
       "0  dep.gilvandafederal@camara.leg.br  200.0  "
      ]
     },
     "execution_count": 5,
     "metadata": {},
     "output_type": "execute_result"
    }
   ],
   "source": [
    "df.head(1)"
   ]
  },
  {
   "cell_type": "code",
   "execution_count": 13,
   "metadata": {},
   "outputs": [
    {
     "name": "stdout",
     "output_type": "stream",
     "text": [
      "Table shape: (4827, 28)\n"
     ]
    }
   ],
   "source": [
    "def process_gold_monthly_data():\n",
    "    df = pd.read_parquet('data/gold/master_table.parquet')\n",
    "    \n",
    "    group_mes = df.groupby(['ano_mes', 'id_deputado'])\n",
    "    df_mes = group_mes[['Valor']].sum()\n",
    "    df_mes['Deputado'] = group_mes['nome'].max()\n",
    "    df_mes.reset_index(inplace=True)\n",
    "    \n",
    "    print(f\"Table shape: {df.shape}\")\n",
    "    df_mes.to_parquet('data/gold/monthly_data.parquet') #TODO path in config\n",
    "\n",
    "process_gold_monthly_data()"
   ]
  },
  {
   "cell_type": "code",
   "execution_count": 14,
   "metadata": {},
   "outputs": [],
   "source": [
    "df_mes = pd.read_parquet('data/gold/monthly_data.parquet')"
   ]
  },
  {
   "cell_type": "markdown",
   "metadata": {},
   "source": [
    "## gasto medio por deputado"
   ]
  },
  {
   "cell_type": "code",
   "execution_count": 56,
   "metadata": {},
   "outputs": [],
   "source": [
    "periodos = ['2024_05']\n",
    "\n",
    "df_filtrado = df.loc[df['ano_mes'].isin(periodos)].copy()\n",
    "mensal_filtrado = df_mes.loc[df_mes['ano_mes'].isin(periodos)].copy()"
   ]
  },
  {
   "cell_type": "code",
   "execution_count": 57,
   "metadata": {},
   "outputs": [
    {
     "data": {
      "text/plain": [
       "'R$ 10548.09'"
      ]
     },
     "execution_count": 57,
     "metadata": {},
     "output_type": "execute_result"
    }
   ],
   "source": [
    "def calc_avg_spend_from_period(df):\n",
    "    spend = df.groupby('ano_mes')['Valor'].mean().mean()\n",
    "    return f\"R$ {round(spend, 2)}\"\n",
    "\n",
    "calc_avg_spend_from_period(mensal_filtrado)"
   ]
  },
  {
   "cell_type": "code",
   "execution_count": 21,
   "metadata": {},
   "outputs": [],
   "source": [
    "import plotly.graph_objects as go\n",
    "import plotly.express as px"
   ]
  },
  {
   "cell_type": "markdown",
   "metadata": {},
   "source": [
    "## grafico por deputado e tipo de despesa"
   ]
  },
  {
   "cell_type": "code",
   "execution_count": 22,
   "metadata": {},
   "outputs": [
    {
     "data": {
      "application/vnd.plotly.v1+json": {
       "config": {
        "plotlyServerURL": "https://plot.ly"
       },
       "data": [
        {
         "alignmentgroup": "True",
         "hovertemplate": "tipoDespesa=COMBUSTÍVEIS E LUBRIFICANTES.<br>nome=%{x}<br>valorDocumento=%{y}<extra></extra>",
         "legendgroup": "COMBUSTÍVEIS E LUBRIFICANTES.",
         "marker": {
          "color": "#636efa",
          "pattern": {
           "shape": ""
          }
         },
         "name": "COMBUSTÍVEIS E LUBRIFICANTES.",
         "offsetgroup": "COMBUSTÍVEIS E LUBRIFICANTES.",
         "orientation": "v",
         "showlegend": true,
         "textposition": "auto",
         "type": "bar",
         "x": [
          "Gilvan da Federal",
          "Paulo Folletto",
          "Gilvan da Federal",
          "Da Vitoria",
          "Gilvan da Federal",
          "Jack Rocha",
          "Amaro Neto",
          "Messias Donato",
          "Helder Salomão",
          "Amaro Neto",
          "Jack Rocha",
          "Evair Vieira de Melo",
          "Evair Vieira de Melo",
          "Gilvan da Federal",
          "Gilvan da Federal",
          "Gilson Daniel",
          "Jack Rocha",
          "Gilson Daniel",
          "Jack Rocha",
          "Gilvan da Federal",
          "Gilvan da Federal",
          "Amaro Neto",
          "Jack Rocha",
          "Helder Salomão",
          "Dr. Victor Linhalis",
          "Evair Vieira de Melo",
          "Evair Vieira de Melo",
          "Evair Vieira de Melo",
          "Da Vitoria",
          "Gilvan da Federal",
          "Paulo Folletto",
          "Jack Rocha",
          "Jack Rocha",
          "Jack Rocha",
          "Paulo Folletto",
          "Gilvan da Federal",
          "Gilson Daniel",
          "Jack Rocha",
          "Helder Salomão",
          "Evair Vieira de Melo",
          "Amaro Neto",
          "Gilvan da Federal",
          "Messias Donato",
          "Messias Donato",
          "Gilson Daniel",
          "Evair Vieira de Melo",
          "Gilvan da Federal",
          "Gilvan da Federal",
          "Paulo Folletto",
          "Messias Donato",
          "Messias Donato",
          "Jack Rocha",
          "Evair Vieira de Melo",
          "Gilvan da Federal",
          "Jack Rocha",
          "Messias Donato",
          "Messias Donato",
          "Messias Donato",
          "Jack Rocha",
          "Gilson Daniel",
          "Messias Donato",
          "Amaro Neto",
          "Jack Rocha",
          "Messias Donato",
          "Evair Vieira de Melo",
          "Evair Vieira de Melo",
          "Messias Donato",
          "Gilvan da Federal",
          "Gilvan da Federal",
          "Messias Donato",
          "Helder Salomão",
          "Gilvan da Federal",
          "Messias Donato",
          "Jack Rocha",
          "Gilson Daniel",
          "Messias Donato",
          "Gilvan da Federal",
          "Jack Rocha",
          "Amaro Neto",
          "Gilvan da Federal",
          "Gilvan da Federal",
          "Jack Rocha",
          "Evair Vieira de Melo",
          "Jack Rocha",
          "Jack Rocha",
          "Amaro Neto",
          "Amaro Neto",
          "Gilson Daniel",
          "Jack Rocha",
          "Helder Salomão",
          "Evair Vieira de Melo",
          "Helder Salomão",
          "Gilson Daniel",
          "Gilvan da Federal",
          "Dr. Victor Linhalis",
          "Gilvan da Federal",
          "Gilvan da Federal",
          "Messias Donato",
          "Messias Donato",
          "Evair Vieira de Melo",
          "Dr. Victor Linhalis"
         ],
         "xaxis": "x",
         "y": [
          243.18,
          105.15,
          100,
          2339.02,
          100,
          200,
          100,
          195.79,
          200,
          210.02,
          200,
          262,
          50,
          267.7,
          100,
          246.01,
          180,
          154.89,
          225.95,
          275.01,
          301.68,
          255.03,
          200.17,
          158.92,
          182.86,
          100,
          205.01,
          50,
          300,
          100,
          328,
          50,
          180,
          229.75,
          204.79,
          100.06,
          204.94,
          100,
          200,
          219.99,
          334.47,
          100,
          100,
          40,
          48.98,
          50,
          50,
          354.94,
          208.47,
          60,
          80,
          150,
          50,
          100,
          100,
          50,
          50,
          50,
          50,
          85.85,
          100,
          150,
          200,
          50,
          50,
          100,
          75,
          100,
          150,
          50,
          200,
          100,
          75,
          100.03,
          158.1,
          200,
          200,
          100,
          210.05,
          100,
          149.21,
          100,
          50,
          230,
          100,
          140,
          100,
          83.9,
          100,
          200,
          50,
          230.02,
          122.9,
          100,
          5134.14,
          354.66,
          100,
          233.31,
          149.9,
          2073.15,
          946.17
         ],
         "yaxis": "y"
        },
        {
         "alignmentgroup": "True",
         "hovertemplate": "tipoDespesa=LOCAÇÃO OU FRETAMENTO DE VEÍCULOS AUTOMOTORES<br>nome=%{x}<br>valorDocumento=%{y}<extra></extra>",
         "legendgroup": "LOCAÇÃO OU FRETAMENTO DE VEÍCULOS AUTOMOTORES",
         "marker": {
          "color": "#EF553B",
          "pattern": {
           "shape": ""
          }
         },
         "name": "LOCAÇÃO OU FRETAMENTO DE VEÍCULOS AUTOMOTORES",
         "offsetgroup": "LOCAÇÃO OU FRETAMENTO DE VEÍCULOS AUTOMOTORES",
         "orientation": "v",
         "showlegend": true,
         "textposition": "auto",
         "type": "bar",
         "x": [
          "Evair Vieira de Melo",
          "Jack Rocha",
          "Jack Rocha",
          "Messias Donato",
          "Messias Donato",
          "Gilson Daniel",
          "Gilvan da Federal",
          "Gilson Daniel",
          "Evair Vieira de Melo",
          "Evair Vieira de Melo",
          "Dr. Victor Linhalis"
         ],
         "xaxis": "x",
         "y": [
          2748.66,
          3800,
          3800,
          5800,
          4300,
          7000,
          7200,
          5713,
          3800,
          6200,
          12500
         ],
         "yaxis": "y"
        },
        {
         "alignmentgroup": "True",
         "hovertemplate": "tipoDespesa=MANUTENÇÃO DE ESCRITÓRIO DE APOIO À ATIVIDADE PARLAMENTAR<br>nome=%{x}<br>valorDocumento=%{y}<extra></extra>",
         "legendgroup": "MANUTENÇÃO DE ESCRITÓRIO DE APOIO À ATIVIDADE PARLAMENTAR",
         "marker": {
          "color": "#00cc96",
          "pattern": {
           "shape": ""
          }
         },
         "name": "MANUTENÇÃO DE ESCRITÓRIO DE APOIO À ATIVIDADE PARLAMENTAR",
         "offsetgroup": "MANUTENÇÃO DE ESCRITÓRIO DE APOIO À ATIVIDADE PARLAMENTAR",
         "orientation": "v",
         "showlegend": true,
         "textposition": "auto",
         "type": "bar",
         "x": [
          "Amaro Neto",
          "Messias Donato",
          "Gilson Daniel",
          "Paulo Folletto",
          "Paulo Folletto",
          "Paulo Folletto",
          "Paulo Folletto",
          "Evair Vieira de Melo",
          "Evair Vieira de Melo",
          "Messias Donato",
          "Helder Salomão",
          "Jack Rocha",
          "Jack Rocha",
          "Dr. Victor Linhalis",
          "Da Vitoria",
          "Helder Salomão",
          "Jack Rocha",
          "Da Vitoria",
          "Da Vitoria",
          "Evair Vieira de Melo",
          "Paulo Folletto",
          "Paulo Folletto",
          "Jack Rocha",
          "Gilson Daniel",
          "Jack Rocha",
          "Da Vitoria",
          "Paulo Folletto",
          "Evair Vieira de Melo"
         ],
         "xaxis": "x",
         "y": [
          2453.54,
          3575,
          2500,
          5110.73,
          89.99,
          119.89,
          309.99,
          124.8,
          123,
          2378,
          360.21,
          495.55,
          800,
          8000,
          8175,
          33.09,
          251.47,
          3200,
          620,
          1050,
          427.79,
          46.44,
          64,
          286.2,
          2100,
          550,
          680,
          1172.5
         ],
         "yaxis": "y"
        },
        {
         "alignmentgroup": "True",
         "hovertemplate": "tipoDespesa=SERVIÇO DE TÁXI, PEDÁGIO E ESTACIONAMENTO<br>nome=%{x}<br>valorDocumento=%{y}<extra></extra>",
         "legendgroup": "SERVIÇO DE TÁXI, PEDÁGIO E ESTACIONAMENTO",
         "marker": {
          "color": "#ab63fa",
          "pattern": {
           "shape": ""
          }
         },
         "name": "SERVIÇO DE TÁXI, PEDÁGIO E ESTACIONAMENTO",
         "offsetgroup": "SERVIÇO DE TÁXI, PEDÁGIO E ESTACIONAMENTO",
         "orientation": "v",
         "showlegend": true,
         "textposition": "auto",
         "type": "bar",
         "x": [
          "Jack Rocha",
          "Jack Rocha",
          "Jack Rocha",
          "Jack Rocha",
          "Helder Salomão",
          "Helder Salomão",
          "Jack Rocha",
          "Helder Salomão",
          "Helder Salomão",
          "Helder Salomão",
          "Helder Salomão",
          "Helder Salomão",
          "Helder Salomão",
          "Helder Salomão",
          "Helder Salomão",
          "Helder Salomão",
          "Helder Salomão",
          "Helder Salomão",
          "Helder Salomão",
          "Helder Salomão",
          "Helder Salomão",
          "Helder Salomão",
          "Helder Salomão",
          "Helder Salomão",
          "Helder Salomão",
          "Helder Salomão"
         ],
         "xaxis": "x",
         "y": [
          38,
          34.91,
          16.95,
          29.86,
          4.3,
          4.3,
          10.99,
          4.3,
          3.6,
          4.3,
          4.2,
          4.2,
          4.2,
          31.38,
          4.2,
          4.3,
          16.94,
          12.91,
          25.07,
          19.98,
          19.91,
          19.92,
          4.2,
          4.2,
          4.3,
          4.3
         ],
         "yaxis": "y"
        },
        {
         "alignmentgroup": "True",
         "hovertemplate": "tipoDespesa=PASSAGEM AÉREA - SIGEPA<br>nome=%{x}<br>valorDocumento=%{y}<extra></extra>",
         "legendgroup": "PASSAGEM AÉREA - SIGEPA",
         "marker": {
          "color": "#FFA15A",
          "pattern": {
           "shape": ""
          }
         },
         "name": "PASSAGEM AÉREA - SIGEPA",
         "offsetgroup": "PASSAGEM AÉREA - SIGEPA",
         "orientation": "v",
         "showlegend": true,
         "textposition": "auto",
         "type": "bar",
         "x": [
          "Evair Vieira de Melo",
          "Gilson Daniel",
          "Evair Vieira de Melo",
          "Da Vitoria",
          "Da Vitoria",
          "Da Vitoria",
          "Messias Donato",
          "Dr. Victor Linhalis",
          "Dr. Victor Linhalis",
          "Jack Rocha",
          "Dr. Victor Linhalis",
          "Dr. Victor Linhalis",
          "Dr. Victor Linhalis",
          "Jack Rocha"
         ],
         "xaxis": "x",
         "y": [
          1149.46,
          -1863.14,
          1198.12,
          1392.2,
          1277.36,
          442,
          -1856.3,
          1825.56,
          1270.21,
          2446.46,
          600.3,
          1282.65,
          2385.41,
          1392.2
         ],
         "yaxis": "y"
        },
        {
         "alignmentgroup": "True",
         "hovertemplate": "tipoDespesa=DIVULGAÇÃO DA ATIVIDADE PARLAMENTAR.<br>nome=%{x}<br>valorDocumento=%{y}<extra></extra>",
         "legendgroup": "DIVULGAÇÃO DA ATIVIDADE PARLAMENTAR.",
         "marker": {
          "color": "#19d3f3",
          "pattern": {
           "shape": ""
          }
         },
         "name": "DIVULGAÇÃO DA ATIVIDADE PARLAMENTAR.",
         "offsetgroup": "DIVULGAÇÃO DA ATIVIDADE PARLAMENTAR.",
         "orientation": "v",
         "showlegend": true,
         "textposition": "auto",
         "type": "bar",
         "x": [
          "Amaro Neto",
          "Evair Vieira de Melo",
          "Dr. Victor Linhalis",
          "Evair Vieira de Melo",
          "Gilson Daniel",
          "Evair Vieira de Melo",
          "Gilvan da Federal",
          "Gilson Daniel",
          "Jack Rocha",
          "Da Vitoria",
          "Da Vitoria",
          "Evair Vieira de Melo",
          "Evair Vieira de Melo",
          "Dr. Victor Linhalis",
          "Messias Donato",
          "Dr. Victor Linhalis"
         ],
         "xaxis": "x",
         "y": [
          10000,
          4000,
          889,
          930,
          4000,
          495.58,
          12800,
          13000,
          10000,
          2000,
          3000,
          4000,
          3500,
          889,
          10000,
          10630.9
         ],
         "yaxis": "y"
        },
        {
         "alignmentgroup": "True",
         "hovertemplate": "tipoDespesa=HOSPEDAGEM ,EXCETO DO PARLAMENTAR NO DISTRITO FEDERAL.<br>nome=%{x}<br>valorDocumento=%{y}<extra></extra>",
         "legendgroup": "HOSPEDAGEM ,EXCETO DO PARLAMENTAR NO DISTRITO FEDERAL.",
         "marker": {
          "color": "#FF6692",
          "pattern": {
           "shape": ""
          }
         },
         "name": "HOSPEDAGEM ,EXCETO DO PARLAMENTAR NO DISTRITO FEDERAL.",
         "offsetgroup": "HOSPEDAGEM ,EXCETO DO PARLAMENTAR NO DISTRITO FEDERAL.",
         "orientation": "v",
         "showlegend": true,
         "textposition": "auto",
         "type": "bar",
         "x": [
          "Gilvan da Federal",
          "Gilvan da Federal",
          "Jack Rocha",
          "Gilvan da Federal",
          "Helder Salomão",
          "Helder Salomão",
          "Helder Salomão",
          "Gilvan da Federal",
          "Gilvan da Federal",
          "Gilvan da Federal",
          "Gilvan da Federal",
          "Gilvan da Federal",
          "Gilvan da Federal"
         ],
         "xaxis": "x",
         "y": [
          75,
          253,
          1020.6,
          518.7,
          190,
          199,
          199,
          911.4,
          332.67,
          332.67,
          332.67,
          332.67,
          471.45
         ],
         "yaxis": "y"
        },
        {
         "alignmentgroup": "True",
         "hovertemplate": "tipoDespesa=TELEFONIA<br>nome=%{x}<br>valorDocumento=%{y}<extra></extra>",
         "legendgroup": "TELEFONIA",
         "marker": {
          "color": "#B6E880",
          "pattern": {
           "shape": ""
          }
         },
         "name": "TELEFONIA",
         "offsetgroup": "TELEFONIA",
         "orientation": "v",
         "showlegend": true,
         "textposition": "auto",
         "type": "bar",
         "x": [
          "Da Vitoria",
          "Dr. Victor Linhalis",
          "Helder Salomão",
          "Evair Vieira de Melo",
          "Paulo Folletto"
         ],
         "xaxis": "x",
         "y": [
          332.56,
          377.47,
          1201.02,
          1490.39,
          512
         ],
         "yaxis": "y"
        }
       ],
       "layout": {
        "barmode": "relative",
        "legend": {
         "title": {
          "text": "tipoDespesa"
         },
         "tracegroupgap": 0
        },
        "margin": {
         "t": 60
        },
        "template": {
         "data": {
          "bar": [
           {
            "error_x": {
             "color": "#2a3f5f"
            },
            "error_y": {
             "color": "#2a3f5f"
            },
            "marker": {
             "line": {
              "color": "#E5ECF6",
              "width": 0.5
             },
             "pattern": {
              "fillmode": "overlay",
              "size": 10,
              "solidity": 0.2
             }
            },
            "type": "bar"
           }
          ],
          "barpolar": [
           {
            "marker": {
             "line": {
              "color": "#E5ECF6",
              "width": 0.5
             },
             "pattern": {
              "fillmode": "overlay",
              "size": 10,
              "solidity": 0.2
             }
            },
            "type": "barpolar"
           }
          ],
          "carpet": [
           {
            "aaxis": {
             "endlinecolor": "#2a3f5f",
             "gridcolor": "white",
             "linecolor": "white",
             "minorgridcolor": "white",
             "startlinecolor": "#2a3f5f"
            },
            "baxis": {
             "endlinecolor": "#2a3f5f",
             "gridcolor": "white",
             "linecolor": "white",
             "minorgridcolor": "white",
             "startlinecolor": "#2a3f5f"
            },
            "type": "carpet"
           }
          ],
          "choropleth": [
           {
            "colorbar": {
             "outlinewidth": 0,
             "ticks": ""
            },
            "type": "choropleth"
           }
          ],
          "contour": [
           {
            "colorbar": {
             "outlinewidth": 0,
             "ticks": ""
            },
            "colorscale": [
             [
              0,
              "#0d0887"
             ],
             [
              0.1111111111111111,
              "#46039f"
             ],
             [
              0.2222222222222222,
              "#7201a8"
             ],
             [
              0.3333333333333333,
              "#9c179e"
             ],
             [
              0.4444444444444444,
              "#bd3786"
             ],
             [
              0.5555555555555556,
              "#d8576b"
             ],
             [
              0.6666666666666666,
              "#ed7953"
             ],
             [
              0.7777777777777778,
              "#fb9f3a"
             ],
             [
              0.8888888888888888,
              "#fdca26"
             ],
             [
              1,
              "#f0f921"
             ]
            ],
            "type": "contour"
           }
          ],
          "contourcarpet": [
           {
            "colorbar": {
             "outlinewidth": 0,
             "ticks": ""
            },
            "type": "contourcarpet"
           }
          ],
          "heatmap": [
           {
            "colorbar": {
             "outlinewidth": 0,
             "ticks": ""
            },
            "colorscale": [
             [
              0,
              "#0d0887"
             ],
             [
              0.1111111111111111,
              "#46039f"
             ],
             [
              0.2222222222222222,
              "#7201a8"
             ],
             [
              0.3333333333333333,
              "#9c179e"
             ],
             [
              0.4444444444444444,
              "#bd3786"
             ],
             [
              0.5555555555555556,
              "#d8576b"
             ],
             [
              0.6666666666666666,
              "#ed7953"
             ],
             [
              0.7777777777777778,
              "#fb9f3a"
             ],
             [
              0.8888888888888888,
              "#fdca26"
             ],
             [
              1,
              "#f0f921"
             ]
            ],
            "type": "heatmap"
           }
          ],
          "heatmapgl": [
           {
            "colorbar": {
             "outlinewidth": 0,
             "ticks": ""
            },
            "colorscale": [
             [
              0,
              "#0d0887"
             ],
             [
              0.1111111111111111,
              "#46039f"
             ],
             [
              0.2222222222222222,
              "#7201a8"
             ],
             [
              0.3333333333333333,
              "#9c179e"
             ],
             [
              0.4444444444444444,
              "#bd3786"
             ],
             [
              0.5555555555555556,
              "#d8576b"
             ],
             [
              0.6666666666666666,
              "#ed7953"
             ],
             [
              0.7777777777777778,
              "#fb9f3a"
             ],
             [
              0.8888888888888888,
              "#fdca26"
             ],
             [
              1,
              "#f0f921"
             ]
            ],
            "type": "heatmapgl"
           }
          ],
          "histogram": [
           {
            "marker": {
             "pattern": {
              "fillmode": "overlay",
              "size": 10,
              "solidity": 0.2
             }
            },
            "type": "histogram"
           }
          ],
          "histogram2d": [
           {
            "colorbar": {
             "outlinewidth": 0,
             "ticks": ""
            },
            "colorscale": [
             [
              0,
              "#0d0887"
             ],
             [
              0.1111111111111111,
              "#46039f"
             ],
             [
              0.2222222222222222,
              "#7201a8"
             ],
             [
              0.3333333333333333,
              "#9c179e"
             ],
             [
              0.4444444444444444,
              "#bd3786"
             ],
             [
              0.5555555555555556,
              "#d8576b"
             ],
             [
              0.6666666666666666,
              "#ed7953"
             ],
             [
              0.7777777777777778,
              "#fb9f3a"
             ],
             [
              0.8888888888888888,
              "#fdca26"
             ],
             [
              1,
              "#f0f921"
             ]
            ],
            "type": "histogram2d"
           }
          ],
          "histogram2dcontour": [
           {
            "colorbar": {
             "outlinewidth": 0,
             "ticks": ""
            },
            "colorscale": [
             [
              0,
              "#0d0887"
             ],
             [
              0.1111111111111111,
              "#46039f"
             ],
             [
              0.2222222222222222,
              "#7201a8"
             ],
             [
              0.3333333333333333,
              "#9c179e"
             ],
             [
              0.4444444444444444,
              "#bd3786"
             ],
             [
              0.5555555555555556,
              "#d8576b"
             ],
             [
              0.6666666666666666,
              "#ed7953"
             ],
             [
              0.7777777777777778,
              "#fb9f3a"
             ],
             [
              0.8888888888888888,
              "#fdca26"
             ],
             [
              1,
              "#f0f921"
             ]
            ],
            "type": "histogram2dcontour"
           }
          ],
          "mesh3d": [
           {
            "colorbar": {
             "outlinewidth": 0,
             "ticks": ""
            },
            "type": "mesh3d"
           }
          ],
          "parcoords": [
           {
            "line": {
             "colorbar": {
              "outlinewidth": 0,
              "ticks": ""
             }
            },
            "type": "parcoords"
           }
          ],
          "pie": [
           {
            "automargin": true,
            "type": "pie"
           }
          ],
          "scatter": [
           {
            "fillpattern": {
             "fillmode": "overlay",
             "size": 10,
             "solidity": 0.2
            },
            "type": "scatter"
           }
          ],
          "scatter3d": [
           {
            "line": {
             "colorbar": {
              "outlinewidth": 0,
              "ticks": ""
             }
            },
            "marker": {
             "colorbar": {
              "outlinewidth": 0,
              "ticks": ""
             }
            },
            "type": "scatter3d"
           }
          ],
          "scattercarpet": [
           {
            "marker": {
             "colorbar": {
              "outlinewidth": 0,
              "ticks": ""
             }
            },
            "type": "scattercarpet"
           }
          ],
          "scattergeo": [
           {
            "marker": {
             "colorbar": {
              "outlinewidth": 0,
              "ticks": ""
             }
            },
            "type": "scattergeo"
           }
          ],
          "scattergl": [
           {
            "marker": {
             "colorbar": {
              "outlinewidth": 0,
              "ticks": ""
             }
            },
            "type": "scattergl"
           }
          ],
          "scattermapbox": [
           {
            "marker": {
             "colorbar": {
              "outlinewidth": 0,
              "ticks": ""
             }
            },
            "type": "scattermapbox"
           }
          ],
          "scatterpolar": [
           {
            "marker": {
             "colorbar": {
              "outlinewidth": 0,
              "ticks": ""
             }
            },
            "type": "scatterpolar"
           }
          ],
          "scatterpolargl": [
           {
            "marker": {
             "colorbar": {
              "outlinewidth": 0,
              "ticks": ""
             }
            },
            "type": "scatterpolargl"
           }
          ],
          "scatterternary": [
           {
            "marker": {
             "colorbar": {
              "outlinewidth": 0,
              "ticks": ""
             }
            },
            "type": "scatterternary"
           }
          ],
          "surface": [
           {
            "colorbar": {
             "outlinewidth": 0,
             "ticks": ""
            },
            "colorscale": [
             [
              0,
              "#0d0887"
             ],
             [
              0.1111111111111111,
              "#46039f"
             ],
             [
              0.2222222222222222,
              "#7201a8"
             ],
             [
              0.3333333333333333,
              "#9c179e"
             ],
             [
              0.4444444444444444,
              "#bd3786"
             ],
             [
              0.5555555555555556,
              "#d8576b"
             ],
             [
              0.6666666666666666,
              "#ed7953"
             ],
             [
              0.7777777777777778,
              "#fb9f3a"
             ],
             [
              0.8888888888888888,
              "#fdca26"
             ],
             [
              1,
              "#f0f921"
             ]
            ],
            "type": "surface"
           }
          ],
          "table": [
           {
            "cells": {
             "fill": {
              "color": "#EBF0F8"
             },
             "line": {
              "color": "white"
             }
            },
            "header": {
             "fill": {
              "color": "#C8D4E3"
             },
             "line": {
              "color": "white"
             }
            },
            "type": "table"
           }
          ]
         },
         "layout": {
          "annotationdefaults": {
           "arrowcolor": "#2a3f5f",
           "arrowhead": 0,
           "arrowwidth": 1
          },
          "autotypenumbers": "strict",
          "coloraxis": {
           "colorbar": {
            "outlinewidth": 0,
            "ticks": ""
           }
          },
          "colorscale": {
           "diverging": [
            [
             0,
             "#8e0152"
            ],
            [
             0.1,
             "#c51b7d"
            ],
            [
             0.2,
             "#de77ae"
            ],
            [
             0.3,
             "#f1b6da"
            ],
            [
             0.4,
             "#fde0ef"
            ],
            [
             0.5,
             "#f7f7f7"
            ],
            [
             0.6,
             "#e6f5d0"
            ],
            [
             0.7,
             "#b8e186"
            ],
            [
             0.8,
             "#7fbc41"
            ],
            [
             0.9,
             "#4d9221"
            ],
            [
             1,
             "#276419"
            ]
           ],
           "sequential": [
            [
             0,
             "#0d0887"
            ],
            [
             0.1111111111111111,
             "#46039f"
            ],
            [
             0.2222222222222222,
             "#7201a8"
            ],
            [
             0.3333333333333333,
             "#9c179e"
            ],
            [
             0.4444444444444444,
             "#bd3786"
            ],
            [
             0.5555555555555556,
             "#d8576b"
            ],
            [
             0.6666666666666666,
             "#ed7953"
            ],
            [
             0.7777777777777778,
             "#fb9f3a"
            ],
            [
             0.8888888888888888,
             "#fdca26"
            ],
            [
             1,
             "#f0f921"
            ]
           ],
           "sequentialminus": [
            [
             0,
             "#0d0887"
            ],
            [
             0.1111111111111111,
             "#46039f"
            ],
            [
             0.2222222222222222,
             "#7201a8"
            ],
            [
             0.3333333333333333,
             "#9c179e"
            ],
            [
             0.4444444444444444,
             "#bd3786"
            ],
            [
             0.5555555555555556,
             "#d8576b"
            ],
            [
             0.6666666666666666,
             "#ed7953"
            ],
            [
             0.7777777777777778,
             "#fb9f3a"
            ],
            [
             0.8888888888888888,
             "#fdca26"
            ],
            [
             1,
             "#f0f921"
            ]
           ]
          },
          "colorway": [
           "#636efa",
           "#EF553B",
           "#00cc96",
           "#ab63fa",
           "#FFA15A",
           "#19d3f3",
           "#FF6692",
           "#B6E880",
           "#FF97FF",
           "#FECB52"
          ],
          "font": {
           "color": "#2a3f5f"
          },
          "geo": {
           "bgcolor": "white",
           "lakecolor": "white",
           "landcolor": "#E5ECF6",
           "showlakes": true,
           "showland": true,
           "subunitcolor": "white"
          },
          "hoverlabel": {
           "align": "left"
          },
          "hovermode": "closest",
          "mapbox": {
           "style": "light"
          },
          "paper_bgcolor": "white",
          "plot_bgcolor": "#E5ECF6",
          "polar": {
           "angularaxis": {
            "gridcolor": "white",
            "linecolor": "white",
            "ticks": ""
           },
           "bgcolor": "#E5ECF6",
           "radialaxis": {
            "gridcolor": "white",
            "linecolor": "white",
            "ticks": ""
           }
          },
          "scene": {
           "xaxis": {
            "backgroundcolor": "#E5ECF6",
            "gridcolor": "white",
            "gridwidth": 2,
            "linecolor": "white",
            "showbackground": true,
            "ticks": "",
            "zerolinecolor": "white"
           },
           "yaxis": {
            "backgroundcolor": "#E5ECF6",
            "gridcolor": "white",
            "gridwidth": 2,
            "linecolor": "white",
            "showbackground": true,
            "ticks": "",
            "zerolinecolor": "white"
           },
           "zaxis": {
            "backgroundcolor": "#E5ECF6",
            "gridcolor": "white",
            "gridwidth": 2,
            "linecolor": "white",
            "showbackground": true,
            "ticks": "",
            "zerolinecolor": "white"
           }
          },
          "shapedefaults": {
           "line": {
            "color": "#2a3f5f"
           }
          },
          "ternary": {
           "aaxis": {
            "gridcolor": "white",
            "linecolor": "white",
            "ticks": ""
           },
           "baxis": {
            "gridcolor": "white",
            "linecolor": "white",
            "ticks": ""
           },
           "bgcolor": "#E5ECF6",
           "caxis": {
            "gridcolor": "white",
            "linecolor": "white",
            "ticks": ""
           }
          },
          "title": {
           "x": 0.05
          },
          "xaxis": {
           "automargin": true,
           "gridcolor": "white",
           "linecolor": "white",
           "ticks": "",
           "title": {
            "standoff": 15
           },
           "zerolinecolor": "white",
           "zerolinewidth": 2
          },
          "yaxis": {
           "automargin": true,
           "gridcolor": "white",
           "linecolor": "white",
           "ticks": "",
           "title": {
            "standoff": 15
           },
           "zerolinecolor": "white",
           "zerolinewidth": 2
          }
         }
        },
        "xaxis": {
         "anchor": "y",
         "domain": [
          0,
          1
         ],
         "title": {
          "text": "nome"
         }
        },
        "yaxis": {
         "anchor": "x",
         "domain": [
          0,
          1
         ],
         "title": {
          "text": "valorDocumento"
         }
        }
       }
      }
     },
     "metadata": {},
     "output_type": "display_data"
    }
   ],
   "source": [
    "px.bar(df.loc[df['ano_mes']=='2024_04'], x='nome', y='valorDocumento', color='tipoDespesa')"
   ]
  },
  {
   "cell_type": "markdown",
   "metadata": {},
   "source": [
    "## deputado que mais gastou por tipo de despesa"
   ]
  },
  {
   "cell_type": "code",
   "execution_count": 43,
   "metadata": {},
   "outputs": [
    {
     "data": {
      "text/plain": [
       "'Helder Salomão'"
      ]
     },
     "execution_count": 43,
     "metadata": {},
     "output_type": "execute_result"
    }
   ],
   "source": [
    "\n"
   ]
  },
  {
   "cell_type": "code",
   "execution_count": 63,
   "metadata": {},
   "outputs": [
    {
     "data": {
      "text/html": [
       "<div>\n",
       "<style scoped>\n",
       "    .dataframe tbody tr th:only-of-type {\n",
       "        vertical-align: middle;\n",
       "    }\n",
       "\n",
       "    .dataframe tbody tr th {\n",
       "        vertical-align: top;\n",
       "    }\n",
       "\n",
       "    .dataframe thead th {\n",
       "        text-align: right;\n",
       "    }\n",
       "</style>\n",
       "<table border=\"1\" class=\"dataframe\">\n",
       "  <thead>\n",
       "    <tr style=\"text-align: right;\">\n",
       "      <th></th>\n",
       "      <th>Deputado</th>\n",
       "      <th>Valor</th>\n",
       "    </tr>\n",
       "  </thead>\n",
       "  <tbody>\n",
       "    <tr>\n",
       "      <th>DIVULGAÇÃO DA ATIVIDADE PARLAMENTAR.</th>\n",
       "      <td>Amaro Neto</td>\n",
       "      <td>20000.0</td>\n",
       "    </tr>\n",
       "    <tr>\n",
       "      <th>PASSAGEM AÉREA - SIGEPA</th>\n",
       "      <td>Da Vitoria</td>\n",
       "      <td>11821.71</td>\n",
       "    </tr>\n",
       "    <tr>\n",
       "      <th>LOCAÇÃO OU FRETAMENTO DE VEÍCULOS AUTOMOTORES</th>\n",
       "      <td>Messias Donato</td>\n",
       "      <td>10100.0</td>\n",
       "    </tr>\n",
       "    <tr>\n",
       "      <th>MANUTENÇÃO DE ESCRITÓRIO DE APOIO À ATIVIDADE PARLAMENTAR</th>\n",
       "      <td>Da Vitoria</td>\n",
       "      <td>7837.5</td>\n",
       "    </tr>\n",
       "    <tr>\n",
       "      <th>COMBUSTÍVEIS E LUBRIFICANTES.</th>\n",
       "      <td>Gilvan da Federal</td>\n",
       "      <td>2854.21</td>\n",
       "    </tr>\n",
       "    <tr>\n",
       "      <th>HOSPEDAGEM ,EXCETO DO PARLAMENTAR NO DISTRITO FEDERAL.</th>\n",
       "      <td>Gilvan da Federal</td>\n",
       "      <td>2794.05</td>\n",
       "    </tr>\n",
       "    <tr>\n",
       "      <th>TELEFONIA</th>\n",
       "      <td>Paulo Folletto</td>\n",
       "      <td>119.89</td>\n",
       "    </tr>\n",
       "  </tbody>\n",
       "</table>\n",
       "</div>"
      ],
      "text/plain": [
       "                                                             Deputado  \\\n",
       "DIVULGAÇÃO DA ATIVIDADE PARLAMENTAR.                       Amaro Neto   \n",
       "PASSAGEM AÉREA - SIGEPA                                    Da Vitoria   \n",
       "LOCAÇÃO OU FRETAMENTO DE VEÍCULOS AUTOMOTORES          Messias Donato   \n",
       "MANUTENÇÃO DE ESCRITÓRIO DE APOIO À ATIVIDADE P...         Da Vitoria   \n",
       "COMBUSTÍVEIS E LUBRIFICANTES.                       Gilvan da Federal   \n",
       "HOSPEDAGEM ,EXCETO DO PARLAMENTAR NO DISTRITO F...  Gilvan da Federal   \n",
       "TELEFONIA                                              Paulo Folletto   \n",
       "\n",
       "                                                       Valor  \n",
       "DIVULGAÇÃO DA ATIVIDADE PARLAMENTAR.                 20000.0  \n",
       "PASSAGEM AÉREA - SIGEPA                             11821.71  \n",
       "LOCAÇÃO OU FRETAMENTO DE VEÍCULOS AUTOMOTORES        10100.0  \n",
       "MANUTENÇÃO DE ESCRITÓRIO DE APOIO À ATIVIDADE P...    7837.5  \n",
       "COMBUSTÍVEIS E LUBRIFICANTES.                        2854.21  \n",
       "HOSPEDAGEM ,EXCETO DO PARLAMENTAR NO DISTRITO F...   2794.05  \n",
       "TELEFONIA                                             119.89  "
      ]
     },
     "execution_count": 63,
     "metadata": {},
     "output_type": "execute_result"
    }
   ],
   "source": [
    "mais_gastou_por_tipo = dict()\n",
    "tmp = df_filtrado.groupby(['nome', 'tipoDespesa'])['Valor'].sum().reset_index().copy()\n",
    "for tipo, tmpdf in tmp.groupby('tipoDespesa'):\n",
    "    result_tipo = tmpdf.loc[tmpdf['Valor']==tmpdf['Valor'].max(), :].copy()\n",
    "    mais_gastou_por_tipo[tipo] = dict(Deputado=result_tipo['nome'].values[0], \n",
    "                                        Valor = result_tipo['Valor'].values[0])\n",
    "    # tmp[tmp==tmp.max()]:\n",
    "\n",
    "mais_gastou_por_tipo = pd.DataFrame(mais_gastou_por_tipo).T.sort_values('Valor', ascending=False)\n",
    "mais_gastou_por_tipo"
   ]
  },
  {
   "cell_type": "code",
   "execution_count": 58,
   "metadata": {},
   "outputs": [],
   "source": [
    "mais_gastou_por_tipo = dict()\n",
    "tmp = df_filtrado.groupby(['nome', 'tipoDespesa'])['Valor'].sum().reset_index().copy()\n",
    "for tipo_despesa in tmp['tipoDespesa'].unique():\n",
    "    result = tmp.loc[tmp['tipoDespesa']==tipo_despesa].copy()\n",
    "    result = result.loc[result['Valor']==result['Valor'].max(), :].copy()\n",
    "    mais_gastou_por_tipo[tipo_despesa] = dict(Deputado=result['nome'].values[0], \n",
    "                                        Valor = result['Valor'].values[0])\n",
    "    # tmp[tmp==tmp.max()]:\n"
   ]
  },
  {
   "cell_type": "code",
   "execution_count": 59,
   "metadata": {},
   "outputs": [
    {
     "data": {
      "text/html": [
       "<div>\n",
       "<style scoped>\n",
       "    .dataframe tbody tr th:only-of-type {\n",
       "        vertical-align: middle;\n",
       "    }\n",
       "\n",
       "    .dataframe tbody tr th {\n",
       "        vertical-align: top;\n",
       "    }\n",
       "\n",
       "    .dataframe thead th {\n",
       "        text-align: right;\n",
       "    }\n",
       "</style>\n",
       "<table border=\"1\" class=\"dataframe\">\n",
       "  <thead>\n",
       "    <tr style=\"text-align: right;\">\n",
       "      <th></th>\n",
       "      <th>Deputado</th>\n",
       "      <th>Valor</th>\n",
       "    </tr>\n",
       "  </thead>\n",
       "  <tbody>\n",
       "    <tr>\n",
       "      <th>DIVULGAÇÃO DA ATIVIDADE PARLAMENTAR.</th>\n",
       "      <td>Amaro Neto</td>\n",
       "      <td>20000.0</td>\n",
       "    </tr>\n",
       "    <tr>\n",
       "      <th>MANUTENÇÃO DE ESCRITÓRIO DE APOIO À ATIVIDADE PARLAMENTAR</th>\n",
       "      <td>Da Vitoria</td>\n",
       "      <td>7837.5</td>\n",
       "    </tr>\n",
       "    <tr>\n",
       "      <th>COMBUSTÍVEIS E LUBRIFICANTES.</th>\n",
       "      <td>Gilvan da Federal</td>\n",
       "      <td>2854.21</td>\n",
       "    </tr>\n",
       "    <tr>\n",
       "      <th>PASSAGEM AÉREA - SIGEPA</th>\n",
       "      <td>Da Vitoria</td>\n",
       "      <td>11821.71</td>\n",
       "    </tr>\n",
       "    <tr>\n",
       "      <th>HOSPEDAGEM ,EXCETO DO PARLAMENTAR NO DISTRITO FEDERAL.</th>\n",
       "      <td>Gilvan da Federal</td>\n",
       "      <td>2794.05</td>\n",
       "    </tr>\n",
       "    <tr>\n",
       "      <th>LOCAÇÃO OU FRETAMENTO DE VEÍCULOS AUTOMOTORES</th>\n",
       "      <td>Messias Donato</td>\n",
       "      <td>10100.0</td>\n",
       "    </tr>\n",
       "    <tr>\n",
       "      <th>TELEFONIA</th>\n",
       "      <td>Paulo Folletto</td>\n",
       "      <td>119.89</td>\n",
       "    </tr>\n",
       "  </tbody>\n",
       "</table>\n",
       "</div>"
      ],
      "text/plain": [
       "                                                             Deputado  \\\n",
       "DIVULGAÇÃO DA ATIVIDADE PARLAMENTAR.                       Amaro Neto   \n",
       "MANUTENÇÃO DE ESCRITÓRIO DE APOIO À ATIVIDADE P...         Da Vitoria   \n",
       "COMBUSTÍVEIS E LUBRIFICANTES.                       Gilvan da Federal   \n",
       "PASSAGEM AÉREA - SIGEPA                                    Da Vitoria   \n",
       "HOSPEDAGEM ,EXCETO DO PARLAMENTAR NO DISTRITO F...  Gilvan da Federal   \n",
       "LOCAÇÃO OU FRETAMENTO DE VEÍCULOS AUTOMOTORES          Messias Donato   \n",
       "TELEFONIA                                              Paulo Folletto   \n",
       "\n",
       "                                                       Valor  \n",
       "DIVULGAÇÃO DA ATIVIDADE PARLAMENTAR.                 20000.0  \n",
       "MANUTENÇÃO DE ESCRITÓRIO DE APOIO À ATIVIDADE P...    7837.5  \n",
       "COMBUSTÍVEIS E LUBRIFICANTES.                        2854.21  \n",
       "PASSAGEM AÉREA - SIGEPA                             11821.71  \n",
       "HOSPEDAGEM ,EXCETO DO PARLAMENTAR NO DISTRITO F...   2794.05  \n",
       "LOCAÇÃO OU FRETAMENTO DE VEÍCULOS AUTOMOTORES        10100.0  \n",
       "TELEFONIA                                             119.89  "
      ]
     },
     "execution_count": 59,
     "metadata": {},
     "output_type": "execute_result"
    }
   ],
   "source": [
    "pd.DataFrame(mais_gastou_por_tipo).T"
   ]
  },
  {
   "cell_type": "code",
   "execution_count": 26,
   "metadata": {},
   "outputs": [
    {
     "data": {
      "text/html": [
       "<div>\n",
       "<style scoped>\n",
       "    .dataframe tbody tr th:only-of-type {\n",
       "        vertical-align: middle;\n",
       "    }\n",
       "\n",
       "    .dataframe tbody tr th {\n",
       "        vertical-align: top;\n",
       "    }\n",
       "\n",
       "    .dataframe thead th {\n",
       "        text-align: right;\n",
       "    }\n",
       "</style>\n",
       "<table border=\"1\" class=\"dataframe\">\n",
       "  <thead>\n",
       "    <tr style=\"text-align: right;\">\n",
       "      <th></th>\n",
       "      <th>ano</th>\n",
       "      <th>mes</th>\n",
       "      <th>tipoDespesa</th>\n",
       "      <th>codDocumento</th>\n",
       "      <th>tipoDocumento</th>\n",
       "      <th>codTipoDocumento</th>\n",
       "      <th>dataDocumento</th>\n",
       "      <th>numDocumento</th>\n",
       "      <th>valorDocumento</th>\n",
       "      <th>urlDocumento</th>\n",
       "      <th>nomeFornecedor</th>\n",
       "      <th>cnpjCpfFornecedor</th>\n",
       "      <th>valorLiquido</th>\n",
       "      <th>valorGlosa</th>\n",
       "      <th>numRessarcimento</th>\n",
       "      <th>codLote</th>\n",
       "      <th>parcela</th>\n",
       "      <th>id_deputado</th>\n",
       "      <th>ano_mes</th>\n",
       "      <th>uri</th>\n",
       "      <th>nome</th>\n",
       "      <th>siglaPartido</th>\n",
       "      <th>uriPartido</th>\n",
       "      <th>siglaUf</th>\n",
       "      <th>idLegislatura</th>\n",
       "      <th>urlFoto</th>\n",
       "      <th>email</th>\n",
       "      <th>Valor</th>\n",
       "    </tr>\n",
       "  </thead>\n",
       "  <tbody>\n",
       "    <tr>\n",
       "      <th>4403</th>\n",
       "      <td>2024</td>\n",
       "      <td>4</td>\n",
       "      <td>COMBUSTÍVEIS E LUBRIFICANTES.</td>\n",
       "      <td>7722512</td>\n",
       "      <td>Nota Fiscal Eletrônica</td>\n",
       "      <td>4</td>\n",
       "      <td>2024-03-22</td>\n",
       "      <td>1256995</td>\n",
       "      <td>243.18</td>\n",
       "      <td>http://www.camara.leg.br/cota-parlamentar/nota...</td>\n",
       "      <td>POSTO BELO</td>\n",
       "      <td>42424137000113</td>\n",
       "      <td>243.18</td>\n",
       "      <td>0.00</td>\n",
       "      <td></td>\n",
       "      <td>2032251</td>\n",
       "      <td>0</td>\n",
       "      <td>220526</td>\n",
       "      <td>2024_04</td>\n",
       "      <td>https://dadosabertos.camara.leg.br/api/v2/depu...</td>\n",
       "      <td>Gilvan da Federal</td>\n",
       "      <td>PL</td>\n",
       "      <td>https://dadosabertos.camara.leg.br/api/v2/part...</td>\n",
       "      <td>ES</td>\n",
       "      <td>57</td>\n",
       "      <td>https://www.camara.leg.br/internet/deputado/ba...</td>\n",
       "      <td>dep.gilvandafederal@camara.leg.br</td>\n",
       "      <td>243.18</td>\n",
       "    </tr>\n",
       "    <tr>\n",
       "      <th>4434</th>\n",
       "      <td>2024</td>\n",
       "      <td>4</td>\n",
       "      <td>LOCAÇÃO OU FRETAMENTO DE VEÍCULOS AUTOMOTORES</td>\n",
       "      <td>7731683</td>\n",
       "      <td>Recibos/Outros</td>\n",
       "      <td>1</td>\n",
       "      <td>2024-03-25</td>\n",
       "      <td>30738</td>\n",
       "      <td>2748.66</td>\n",
       "      <td>https://www.camara.leg.br/cota-parlamentar/doc...</td>\n",
       "      <td>REDE BRASILEIRA DE AUTOMOTORES LTDA</td>\n",
       "      <td>39316666000865</td>\n",
       "      <td>2713.00</td>\n",
       "      <td>35.66</td>\n",
       "      <td></td>\n",
       "      <td>2037050</td>\n",
       "      <td>0</td>\n",
       "      <td>178871</td>\n",
       "      <td>2024_04</td>\n",
       "      <td>https://dadosabertos.camara.leg.br/api/v2/depu...</td>\n",
       "      <td>Evair Vieira de Melo</td>\n",
       "      <td>PP</td>\n",
       "      <td>https://dadosabertos.camara.leg.br/api/v2/part...</td>\n",
       "      <td>ES</td>\n",
       "      <td>57</td>\n",
       "      <td>https://www.camara.leg.br/internet/deputado/ba...</td>\n",
       "      <td>dep.evairvieirademelo@camara.leg.br</td>\n",
       "      <td>2713.00</td>\n",
       "    </tr>\n",
       "    <tr>\n",
       "      <th>4459</th>\n",
       "      <td>2024</td>\n",
       "      <td>4</td>\n",
       "      <td>MANUTENÇÃO DE ESCRITÓRIO DE APOIO À ATIVIDADE ...</td>\n",
       "      <td>7723338</td>\n",
       "      <td>Recibos/Outros</td>\n",
       "      <td>1</td>\n",
       "      <td>2024-03-28</td>\n",
       "      <td>4476</td>\n",
       "      <td>2453.54</td>\n",
       "      <td>https://www.camara.leg.br/cota-parlamentar/doc...</td>\n",
       "      <td>Apê Vila Velha Imobiliária e Construções</td>\n",
       "      <td>28926781000169</td>\n",
       "      <td>2450.54</td>\n",
       "      <td>3.00</td>\n",
       "      <td></td>\n",
       "      <td>2032659</td>\n",
       "      <td>0</td>\n",
       "      <td>204356</td>\n",
       "      <td>2024_04</td>\n",
       "      <td>https://dadosabertos.camara.leg.br/api/v2/depu...</td>\n",
       "      <td>Amaro Neto</td>\n",
       "      <td>REPUBLICANOS</td>\n",
       "      <td>https://dadosabertos.camara.leg.br/api/v2/part...</td>\n",
       "      <td>ES</td>\n",
       "      <td>57</td>\n",
       "      <td>https://www.camara.leg.br/internet/deputado/ba...</td>\n",
       "      <td>dep.amaroneto@camara.leg.br</td>\n",
       "      <td>2450.54</td>\n",
       "    </tr>\n",
       "    <tr>\n",
       "      <th>4471</th>\n",
       "      <td>2024</td>\n",
       "      <td>4</td>\n",
       "      <td>COMBUSTÍVEIS E LUBRIFICANTES.</td>\n",
       "      <td>7716488</td>\n",
       "      <td>Nota Fiscal Eletrônica</td>\n",
       "      <td>4</td>\n",
       "      <td>2024-03-31</td>\n",
       "      <td>67362</td>\n",
       "      <td>105.15</td>\n",
       "      <td>http://www.camara.leg.br/cota-parlamentar/nota...</td>\n",
       "      <td>REDE QUALITY COMERCIO DE COMBUSTIVEIS LTDA</td>\n",
       "      <td>36900391000571</td>\n",
       "      <td>105.15</td>\n",
       "      <td>0.00</td>\n",
       "      <td></td>\n",
       "      <td>2030128</td>\n",
       "      <td>0</td>\n",
       "      <td>160517</td>\n",
       "      <td>2024_04</td>\n",
       "      <td>https://dadosabertos.camara.leg.br/api/v2/depu...</td>\n",
       "      <td>Paulo Folletto</td>\n",
       "      <td>PSB</td>\n",
       "      <td>https://dadosabertos.camara.leg.br/api/v2/part...</td>\n",
       "      <td>ES</td>\n",
       "      <td>57</td>\n",
       "      <td>https://www.camara.leg.br/internet/deputado/ba...</td>\n",
       "      <td>dep.paulofolletto@camara.leg.br</td>\n",
       "      <td>105.15</td>\n",
       "    </tr>\n",
       "    <tr>\n",
       "      <th>4477</th>\n",
       "      <td>2024</td>\n",
       "      <td>4</td>\n",
       "      <td>COMBUSTÍVEIS E LUBRIFICANTES.</td>\n",
       "      <td>7711604</td>\n",
       "      <td>Nota Fiscal Eletrônica</td>\n",
       "      <td>4</td>\n",
       "      <td>2024-04-01</td>\n",
       "      <td>169524</td>\n",
       "      <td>100.00</td>\n",
       "      <td>http://www.camara.leg.br/cota-parlamentar/nota...</td>\n",
       "      <td>AUTO VOLUME COMERCIO DE DERIVADOS DE PETROLEO ...</td>\n",
       "      <td>25015036000170</td>\n",
       "      <td>100.00</td>\n",
       "      <td>0.00</td>\n",
       "      <td></td>\n",
       "      <td>2026387</td>\n",
       "      <td>0</td>\n",
       "      <td>220526</td>\n",
       "      <td>2024_04</td>\n",
       "      <td>https://dadosabertos.camara.leg.br/api/v2/depu...</td>\n",
       "      <td>Gilvan da Federal</td>\n",
       "      <td>PL</td>\n",
       "      <td>https://dadosabertos.camara.leg.br/api/v2/part...</td>\n",
       "      <td>ES</td>\n",
       "      <td>57</td>\n",
       "      <td>https://www.camara.leg.br/internet/deputado/ba...</td>\n",
       "      <td>dep.gilvandafederal@camara.leg.br</td>\n",
       "      <td>100.00</td>\n",
       "    </tr>\n",
       "    <tr>\n",
       "      <th>...</th>\n",
       "      <td>...</td>\n",
       "      <td>...</td>\n",
       "      <td>...</td>\n",
       "      <td>...</td>\n",
       "      <td>...</td>\n",
       "      <td>...</td>\n",
       "      <td>...</td>\n",
       "      <td>...</td>\n",
       "      <td>...</td>\n",
       "      <td>...</td>\n",
       "      <td>...</td>\n",
       "      <td>...</td>\n",
       "      <td>...</td>\n",
       "      <td>...</td>\n",
       "      <td>...</td>\n",
       "      <td>...</td>\n",
       "      <td>...</td>\n",
       "      <td>...</td>\n",
       "      <td>...</td>\n",
       "      <td>...</td>\n",
       "      <td>...</td>\n",
       "      <td>...</td>\n",
       "      <td>...</td>\n",
       "      <td>...</td>\n",
       "      <td>...</td>\n",
       "      <td>...</td>\n",
       "      <td>...</td>\n",
       "      <td>...</td>\n",
       "    </tr>\n",
       "    <tr>\n",
       "      <th>4734</th>\n",
       "      <td>2024</td>\n",
       "      <td>4</td>\n",
       "      <td>MANUTENÇÃO DE ESCRITÓRIO DE APOIO À ATIVIDADE ...</td>\n",
       "      <td>7730864</td>\n",
       "      <td>Recibos/Outros</td>\n",
       "      <td>1</td>\n",
       "      <td>2024-05-06</td>\n",
       "      <td>344</td>\n",
       "      <td>680.00</td>\n",
       "      <td>https://www.camara.leg.br/cota-parlamentar/doc...</td>\n",
       "      <td>VITÓRIA TECNOLOGIA DA INFORMAÇÃO LTDA</td>\n",
       "      <td>06069667000127</td>\n",
       "      <td>680.00</td>\n",
       "      <td>0.00</td>\n",
       "      <td></td>\n",
       "      <td>2036961</td>\n",
       "      <td>0</td>\n",
       "      <td>160517</td>\n",
       "      <td>2024_04</td>\n",
       "      <td>https://dadosabertos.camara.leg.br/api/v2/depu...</td>\n",
       "      <td>Paulo Folletto</td>\n",
       "      <td>PSB</td>\n",
       "      <td>https://dadosabertos.camara.leg.br/api/v2/part...</td>\n",
       "      <td>ES</td>\n",
       "      <td>57</td>\n",
       "      <td>https://www.camara.leg.br/internet/deputado/ba...</td>\n",
       "      <td>dep.paulofolletto@camara.leg.br</td>\n",
       "      <td>680.00</td>\n",
       "    </tr>\n",
       "    <tr>\n",
       "      <th>4738</th>\n",
       "      <td>2024</td>\n",
       "      <td>4</td>\n",
       "      <td>LOCAÇÃO OU FRETAMENTO DE VEÍCULOS AUTOMOTORES</td>\n",
       "      <td>7730777</td>\n",
       "      <td>Recibos/Outros</td>\n",
       "      <td>1</td>\n",
       "      <td>2024-05-07</td>\n",
       "      <td>06549</td>\n",
       "      <td>12500.00</td>\n",
       "      <td>https://www.camara.leg.br/cota-parlamentar/doc...</td>\n",
       "      <td>ARAUJO RENTACAR EIRELI EPP</td>\n",
       "      <td>07134140000100</td>\n",
       "      <td>12500.00</td>\n",
       "      <td>0.00</td>\n",
       "      <td></td>\n",
       "      <td>2036567</td>\n",
       "      <td>0</td>\n",
       "      <td>220528</td>\n",
       "      <td>2024_04</td>\n",
       "      <td>https://dadosabertos.camara.leg.br/api/v2/depu...</td>\n",
       "      <td>Dr. Victor Linhalis</td>\n",
       "      <td>PODE</td>\n",
       "      <td>https://dadosabertos.camara.leg.br/api/v2/part...</td>\n",
       "      <td>ES</td>\n",
       "      <td>57</td>\n",
       "      <td>https://www.camara.leg.br/internet/deputado/ba...</td>\n",
       "      <td>dep.dr.victorlinhalis@camara.leg.br</td>\n",
       "      <td>12500.00</td>\n",
       "    </tr>\n",
       "    <tr>\n",
       "      <th>4748</th>\n",
       "      <td>2024</td>\n",
       "      <td>4</td>\n",
       "      <td>DIVULGAÇÃO DA ATIVIDADE PARLAMENTAR.</td>\n",
       "      <td>7733119</td>\n",
       "      <td>Nota Fiscal</td>\n",
       "      <td>0</td>\n",
       "      <td>2024-05-08</td>\n",
       "      <td>45</td>\n",
       "      <td>10000.00</td>\n",
       "      <td>https://www.camara.leg.br/cota-parlamentar/doc...</td>\n",
       "      <td>KELLY BARCELOS - MEGA PRODUÇÕES</td>\n",
       "      <td>24469773000180</td>\n",
       "      <td>10000.00</td>\n",
       "      <td>0.00</td>\n",
       "      <td></td>\n",
       "      <td>2038297</td>\n",
       "      <td>0</td>\n",
       "      <td>220530</td>\n",
       "      <td>2024_04</td>\n",
       "      <td>https://dadosabertos.camara.leg.br/api/v2/depu...</td>\n",
       "      <td>Messias Donato</td>\n",
       "      <td>REPUBLICANOS</td>\n",
       "      <td>https://dadosabertos.camara.leg.br/api/v2/part...</td>\n",
       "      <td>ES</td>\n",
       "      <td>57</td>\n",
       "      <td>https://www.camara.leg.br/internet/deputado/ba...</td>\n",
       "      <td>dep.messiasdonato@camara.leg.br</td>\n",
       "      <td>10000.00</td>\n",
       "    </tr>\n",
       "    <tr>\n",
       "      <th>4755</th>\n",
       "      <td>2024</td>\n",
       "      <td>4</td>\n",
       "      <td>MANUTENÇÃO DE ESCRITÓRIO DE APOIO À ATIVIDADE ...</td>\n",
       "      <td>7731763</td>\n",
       "      <td>Recibos/Outros</td>\n",
       "      <td>1</td>\n",
       "      <td>2024-05-08</td>\n",
       "      <td>011299</td>\n",
       "      <td>1172.50</td>\n",
       "      <td>https://www.camara.leg.br/cota-parlamentar/doc...</td>\n",
       "      <td>VITÓRIA TECNOLOGIA DA INFORMAÇÃO LTDA</td>\n",
       "      <td>06069667000127</td>\n",
       "      <td>1172.50</td>\n",
       "      <td>0.00</td>\n",
       "      <td></td>\n",
       "      <td>2037101</td>\n",
       "      <td>0</td>\n",
       "      <td>178871</td>\n",
       "      <td>2024_04</td>\n",
       "      <td>https://dadosabertos.camara.leg.br/api/v2/depu...</td>\n",
       "      <td>Evair Vieira de Melo</td>\n",
       "      <td>PP</td>\n",
       "      <td>https://dadosabertos.camara.leg.br/api/v2/part...</td>\n",
       "      <td>ES</td>\n",
       "      <td>57</td>\n",
       "      <td>https://www.camara.leg.br/internet/deputado/ba...</td>\n",
       "      <td>dep.evairvieirademelo@camara.leg.br</td>\n",
       "      <td>1172.50</td>\n",
       "    </tr>\n",
       "    <tr>\n",
       "      <th>4762</th>\n",
       "      <td>2024</td>\n",
       "      <td>4</td>\n",
       "      <td>DIVULGAÇÃO DA ATIVIDADE PARLAMENTAR.</td>\n",
       "      <td>7731592</td>\n",
       "      <td>Nota Fiscal</td>\n",
       "      <td>0</td>\n",
       "      <td>2024-05-08</td>\n",
       "      <td>00009</td>\n",
       "      <td>10630.90</td>\n",
       "      <td>https://www.camara.leg.br/cota-parlamentar/doc...</td>\n",
       "      <td>SPEED-UP LTDA</td>\n",
       "      <td>50623932000169</td>\n",
       "      <td>10630.90</td>\n",
       "      <td>0.00</td>\n",
       "      <td></td>\n",
       "      <td>2037002</td>\n",
       "      <td>0</td>\n",
       "      <td>220528</td>\n",
       "      <td>2024_04</td>\n",
       "      <td>https://dadosabertos.camara.leg.br/api/v2/depu...</td>\n",
       "      <td>Dr. Victor Linhalis</td>\n",
       "      <td>PODE</td>\n",
       "      <td>https://dadosabertos.camara.leg.br/api/v2/part...</td>\n",
       "      <td>ES</td>\n",
       "      <td>57</td>\n",
       "      <td>https://www.camara.leg.br/internet/deputado/ba...</td>\n",
       "      <td>dep.dr.victorlinhalis@camara.leg.br</td>\n",
       "      <td>10630.90</td>\n",
       "    </tr>\n",
       "  </tbody>\n",
       "</table>\n",
       "<p>214 rows × 28 columns</p>\n",
       "</div>"
      ],
      "text/plain": [
       "       ano  mes                                        tipoDespesa  \\\n",
       "4403  2024    4                      COMBUSTÍVEIS E LUBRIFICANTES.   \n",
       "4434  2024    4      LOCAÇÃO OU FRETAMENTO DE VEÍCULOS AUTOMOTORES   \n",
       "4459  2024    4  MANUTENÇÃO DE ESCRITÓRIO DE APOIO À ATIVIDADE ...   \n",
       "4471  2024    4                      COMBUSTÍVEIS E LUBRIFICANTES.   \n",
       "4477  2024    4                      COMBUSTÍVEIS E LUBRIFICANTES.   \n",
       "...    ...  ...                                                ...   \n",
       "4734  2024    4  MANUTENÇÃO DE ESCRITÓRIO DE APOIO À ATIVIDADE ...   \n",
       "4738  2024    4      LOCAÇÃO OU FRETAMENTO DE VEÍCULOS AUTOMOTORES   \n",
       "4748  2024    4               DIVULGAÇÃO DA ATIVIDADE PARLAMENTAR.   \n",
       "4755  2024    4  MANUTENÇÃO DE ESCRITÓRIO DE APOIO À ATIVIDADE ...   \n",
       "4762  2024    4               DIVULGAÇÃO DA ATIVIDADE PARLAMENTAR.   \n",
       "\n",
       "      codDocumento           tipoDocumento  codTipoDocumento dataDocumento  \\\n",
       "4403       7722512  Nota Fiscal Eletrônica                 4    2024-03-22   \n",
       "4434       7731683          Recibos/Outros                 1    2024-03-25   \n",
       "4459       7723338          Recibos/Outros                 1    2024-03-28   \n",
       "4471       7716488  Nota Fiscal Eletrônica                 4    2024-03-31   \n",
       "4477       7711604  Nota Fiscal Eletrônica                 4    2024-04-01   \n",
       "...            ...                     ...               ...           ...   \n",
       "4734       7730864          Recibos/Outros                 1    2024-05-06   \n",
       "4738       7730777          Recibos/Outros                 1    2024-05-07   \n",
       "4748       7733119             Nota Fiscal                 0    2024-05-08   \n",
       "4755       7731763          Recibos/Outros                 1    2024-05-08   \n",
       "4762       7731592             Nota Fiscal                 0    2024-05-08   \n",
       "\n",
       "     numDocumento  valorDocumento  \\\n",
       "4403      1256995          243.18   \n",
       "4434        30738         2748.66   \n",
       "4459         4476         2453.54   \n",
       "4471        67362          105.15   \n",
       "4477       169524          100.00   \n",
       "...           ...             ...   \n",
       "4734          344          680.00   \n",
       "4738        06549        12500.00   \n",
       "4748           45        10000.00   \n",
       "4755       011299         1172.50   \n",
       "4762        00009        10630.90   \n",
       "\n",
       "                                           urlDocumento  \\\n",
       "4403  http://www.camara.leg.br/cota-parlamentar/nota...   \n",
       "4434  https://www.camara.leg.br/cota-parlamentar/doc...   \n",
       "4459  https://www.camara.leg.br/cota-parlamentar/doc...   \n",
       "4471  http://www.camara.leg.br/cota-parlamentar/nota...   \n",
       "4477  http://www.camara.leg.br/cota-parlamentar/nota...   \n",
       "...                                                 ...   \n",
       "4734  https://www.camara.leg.br/cota-parlamentar/doc...   \n",
       "4738  https://www.camara.leg.br/cota-parlamentar/doc...   \n",
       "4748  https://www.camara.leg.br/cota-parlamentar/doc...   \n",
       "4755  https://www.camara.leg.br/cota-parlamentar/doc...   \n",
       "4762  https://www.camara.leg.br/cota-parlamentar/doc...   \n",
       "\n",
       "                                         nomeFornecedor cnpjCpfFornecedor  \\\n",
       "4403                                         POSTO BELO    42424137000113   \n",
       "4434                REDE BRASILEIRA DE AUTOMOTORES LTDA    39316666000865   \n",
       "4459           Apê Vila Velha Imobiliária e Construções    28926781000169   \n",
       "4471         REDE QUALITY COMERCIO DE COMBUSTIVEIS LTDA    36900391000571   \n",
       "4477  AUTO VOLUME COMERCIO DE DERIVADOS DE PETROLEO ...    25015036000170   \n",
       "...                                                 ...               ...   \n",
       "4734              VITÓRIA TECNOLOGIA DA INFORMAÇÃO LTDA    06069667000127   \n",
       "4738                         ARAUJO RENTACAR EIRELI EPP    07134140000100   \n",
       "4748                    KELLY BARCELOS - MEGA PRODUÇÕES    24469773000180   \n",
       "4755              VITÓRIA TECNOLOGIA DA INFORMAÇÃO LTDA    06069667000127   \n",
       "4762                                      SPEED-UP LTDA    50623932000169   \n",
       "\n",
       "      valorLiquido  valorGlosa numRessarcimento  codLote  parcela  \\\n",
       "4403        243.18        0.00                   2032251        0   \n",
       "4434       2713.00       35.66                   2037050        0   \n",
       "4459       2450.54        3.00                   2032659        0   \n",
       "4471        105.15        0.00                   2030128        0   \n",
       "4477        100.00        0.00                   2026387        0   \n",
       "...            ...         ...              ...      ...      ...   \n",
       "4734        680.00        0.00                   2036961        0   \n",
       "4738      12500.00        0.00                   2036567        0   \n",
       "4748      10000.00        0.00                   2038297        0   \n",
       "4755       1172.50        0.00                   2037101        0   \n",
       "4762      10630.90        0.00                   2037002        0   \n",
       "\n",
       "      id_deputado  ano_mes                                                uri  \\\n",
       "4403       220526  2024_04  https://dadosabertos.camara.leg.br/api/v2/depu...   \n",
       "4434       178871  2024_04  https://dadosabertos.camara.leg.br/api/v2/depu...   \n",
       "4459       204356  2024_04  https://dadosabertos.camara.leg.br/api/v2/depu...   \n",
       "4471       160517  2024_04  https://dadosabertos.camara.leg.br/api/v2/depu...   \n",
       "4477       220526  2024_04  https://dadosabertos.camara.leg.br/api/v2/depu...   \n",
       "...           ...      ...                                                ...   \n",
       "4734       160517  2024_04  https://dadosabertos.camara.leg.br/api/v2/depu...   \n",
       "4738       220528  2024_04  https://dadosabertos.camara.leg.br/api/v2/depu...   \n",
       "4748       220530  2024_04  https://dadosabertos.camara.leg.br/api/v2/depu...   \n",
       "4755       178871  2024_04  https://dadosabertos.camara.leg.br/api/v2/depu...   \n",
       "4762       220528  2024_04  https://dadosabertos.camara.leg.br/api/v2/depu...   \n",
       "\n",
       "                      nome  siglaPartido  \\\n",
       "4403     Gilvan da Federal            PL   \n",
       "4434  Evair Vieira de Melo            PP   \n",
       "4459            Amaro Neto  REPUBLICANOS   \n",
       "4471        Paulo Folletto           PSB   \n",
       "4477     Gilvan da Federal            PL   \n",
       "...                    ...           ...   \n",
       "4734        Paulo Folletto           PSB   \n",
       "4738   Dr. Victor Linhalis          PODE   \n",
       "4748        Messias Donato  REPUBLICANOS   \n",
       "4755  Evair Vieira de Melo            PP   \n",
       "4762   Dr. Victor Linhalis          PODE   \n",
       "\n",
       "                                             uriPartido siglaUf  \\\n",
       "4403  https://dadosabertos.camara.leg.br/api/v2/part...      ES   \n",
       "4434  https://dadosabertos.camara.leg.br/api/v2/part...      ES   \n",
       "4459  https://dadosabertos.camara.leg.br/api/v2/part...      ES   \n",
       "4471  https://dadosabertos.camara.leg.br/api/v2/part...      ES   \n",
       "4477  https://dadosabertos.camara.leg.br/api/v2/part...      ES   \n",
       "...                                                 ...     ...   \n",
       "4734  https://dadosabertos.camara.leg.br/api/v2/part...      ES   \n",
       "4738  https://dadosabertos.camara.leg.br/api/v2/part...      ES   \n",
       "4748  https://dadosabertos.camara.leg.br/api/v2/part...      ES   \n",
       "4755  https://dadosabertos.camara.leg.br/api/v2/part...      ES   \n",
       "4762  https://dadosabertos.camara.leg.br/api/v2/part...      ES   \n",
       "\n",
       "      idLegislatura                                            urlFoto  \\\n",
       "4403             57  https://www.camara.leg.br/internet/deputado/ba...   \n",
       "4434             57  https://www.camara.leg.br/internet/deputado/ba...   \n",
       "4459             57  https://www.camara.leg.br/internet/deputado/ba...   \n",
       "4471             57  https://www.camara.leg.br/internet/deputado/ba...   \n",
       "4477             57  https://www.camara.leg.br/internet/deputado/ba...   \n",
       "...             ...                                                ...   \n",
       "4734             57  https://www.camara.leg.br/internet/deputado/ba...   \n",
       "4738             57  https://www.camara.leg.br/internet/deputado/ba...   \n",
       "4748             57  https://www.camara.leg.br/internet/deputado/ba...   \n",
       "4755             57  https://www.camara.leg.br/internet/deputado/ba...   \n",
       "4762             57  https://www.camara.leg.br/internet/deputado/ba...   \n",
       "\n",
       "                                    email     Valor  \n",
       "4403    dep.gilvandafederal@camara.leg.br    243.18  \n",
       "4434  dep.evairvieirademelo@camara.leg.br   2713.00  \n",
       "4459          dep.amaroneto@camara.leg.br   2450.54  \n",
       "4471      dep.paulofolletto@camara.leg.br    105.15  \n",
       "4477    dep.gilvandafederal@camara.leg.br    100.00  \n",
       "...                                   ...       ...  \n",
       "4734      dep.paulofolletto@camara.leg.br    680.00  \n",
       "4738  dep.dr.victorlinhalis@camara.leg.br  12500.00  \n",
       "4748      dep.messiasdonato@camara.leg.br  10000.00  \n",
       "4755  dep.evairvieirademelo@camara.leg.br   1172.50  \n",
       "4762  dep.dr.victorlinhalis@camara.leg.br  10630.90  \n",
       "\n",
       "[214 rows x 28 columns]"
      ]
     },
     "execution_count": 26,
     "metadata": {},
     "output_type": "execute_result"
    }
   ],
   "source": [
    "for deputado, tmpdf in df_filtrado.groupby('deputado'):\n",
    "    tmpdf.loc[tmpdf['Valor']]\n"
   ]
  },
  {
   "cell_type": "code",
   "execution_count": null,
   "metadata": {},
   "outputs": [],
   "source": []
  },
  {
   "cell_type": "code",
   "execution_count": null,
   "metadata": {},
   "outputs": [],
   "source": [
    "df.groupby('nomeFornecedor')['valorDocumento'].sum().sort_values(ascending=False).head(10)"
   ]
  },
  {
   "cell_type": "code",
   "execution_count": null,
   "metadata": {},
   "outputs": [],
   "source": [
    "df.loc[(df['nome'].str.contains('Linhalis')) & (df['ano_mes']=='2023_12') & (df['valorDocumento'].between(10000, 13000)), ['urlDocumento']].values"
   ]
  },
  {
   "cell_type": "code",
   "execution_count": null,
   "metadata": {},
   "outputs": [],
   "source": [
    "px.line(tmp, x='ano_mes', y='valorDocumento', color='nome')"
   ]
  },
  {
   "cell_type": "code",
   "execution_count": null,
   "metadata": {},
   "outputs": [],
   "source": [
    "import plotly.graph_objects as go\n",
    "import plotly.express as px\n",
    "tmp = df.groupby(['id_deputado', 'ano_mes'])[['valorDocumento']].sum()\n",
    "\n",
    "fig = go.Figure()\n",
    "for k, tmpdf in df.groupby(['id_deputado']):\n",
    "    px.line(tmp.loc[dep], y='valorDocumento')\n",
    "    # fig.add_trace(px.line(tmp.loc[dep], y='valorDocumento'))\n",
    "fig.show()"
   ]
  },
  {
   "cell_type": "markdown",
   "metadata": {},
   "source": [
    "# Rascunho"
   ]
  },
  {
   "cell_type": "code",
   "execution_count": null,
   "metadata": {},
   "outputs": [],
   "source": [
    "def pipeline_data_collection():\n",
    "    info_datasets = {} # config\n",
    "    reprocessing_status = {}\n",
    "    for dataset in info_datasets.keys():\n",
    "        df = collect_data(dataset)\n",
    "        reprocessing_status[dataset] = get_reprocessing_status()\n",
    "        if reprocessing_status[dataset]:\n",
    "            save_data(df)\n",
    "\n",
    "    save_data(reprocessing_status)"
   ]
  },
  {
   "cell_type": "code",
   "execution_count": null,
   "metadata": {},
   "outputs": [],
   "source": [
    "def pipeline_data_processing():\n",
    "    \n",
    "    process_deputados()\n",
    "    process_despesas()"
   ]
  },
  {
   "cell_type": "code",
   "execution_count": null,
   "metadata": {},
   "outputs": [],
   "source": [
    "pipeline_data_collection()\n",
    "\n",
    "pipeline_data_processing()\n",
    "\n",
    "update_website()"
   ]
  }
 ],
 "metadata": {
  "kernelspec": {
   "display_name": "Python 3",
   "language": "python",
   "name": "python3"
  },
  "language_info": {
   "codemirror_mode": {
    "name": "ipython",
    "version": 3
   },
   "file_extension": ".py",
   "mimetype": "text/x-python",
   "name": "python",
   "nbconvert_exporter": "python",
   "pygments_lexer": "ipython3",
   "version": "3.12.3"
  }
 },
 "nbformat": 4,
 "nbformat_minor": 2
}

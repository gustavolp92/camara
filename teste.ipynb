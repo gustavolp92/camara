{
 "cells": [
  {
   "cell_type": "code",
   "execution_count": null,
   "metadata": {},
   "outputs": [],
   "source": [
    "0, 1, 1, 2, 3, 5, 8"
   ]
  },
  {
   "cell_type": "code",
   "execution_count": 9,
   "metadata": {},
   "outputs": [
    {
     "ename": "IndexError",
     "evalue": "list assignment index out of range",
     "output_type": "error",
     "traceback": [
      "\u001b[1;31m---------------------------------------------------------------------------\u001b[0m",
      "\u001b[1;31mIndexError\u001b[0m                                Traceback (most recent call last)",
      "Cell \u001b[1;32mIn[9], line 13\u001b[0m\n\u001b[0;32m      8\u001b[0m             fib[position] \u001b[38;5;241m=\u001b[39m fib[position\u001b[38;5;241m-\u001b[39m\u001b[38;5;241m1\u001b[39m], fib[position\u001b[38;5;241m-\u001b[39m\u001b[38;5;241m2\u001b[39m]\n\u001b[0;32m      9\u001b[0m     \u001b[38;5;28;01mreturn\u001b[39;00m fib\n\u001b[1;32m---> 13\u001b[0m \u001b[43mfibonacci\u001b[49m\u001b[43m(\u001b[49m\u001b[38;5;241;43m2\u001b[39;49m\u001b[43m)\u001b[49m\n",
      "Cell \u001b[1;32mIn[9], line 8\u001b[0m, in \u001b[0;36mfibonacci\u001b[1;34m(n)\u001b[0m\n\u001b[0;32m      6\u001b[0m \u001b[38;5;28;01melse\u001b[39;00m:\n\u001b[0;32m      7\u001b[0m     \u001b[38;5;28;01mwhile\u001b[39;00m position \u001b[38;5;241m<\u001b[39m\u001b[38;5;241m=\u001b[39m n:\n\u001b[1;32m----> 8\u001b[0m         \u001b[43mfib\u001b[49m\u001b[43m[\u001b[49m\u001b[43mposition\u001b[49m\u001b[43m]\u001b[49m \u001b[38;5;241m=\u001b[39m fib[position\u001b[38;5;241m-\u001b[39m\u001b[38;5;241m1\u001b[39m], fib[position\u001b[38;5;241m-\u001b[39m\u001b[38;5;241m2\u001b[39m]\n\u001b[0;32m      9\u001b[0m \u001b[38;5;28;01mreturn\u001b[39;00m fib\n",
      "\u001b[1;31mIndexError\u001b[0m: list assignment index out of range"
     ]
    }
   ],
   "source": [
    "def fibonacci(n):\n",
    "    fib = [0,1]\n",
    "    position = 2\n",
    "    if n in fib:\n",
    "        return n\n",
    "    else:\n",
    "        while position <= n:\n",
    "            fib[position] = fib[position-1], fib[position-2]\n",
    "            position+=1\n",
    "    return fib\n",
    "\n",
    "\n",
    "    \n",
    "fibonacci(2)"
   ]
  },
  {
   "cell_type": "code",
   "execution_count": null,
   "metadata": {},
   "outputs": [],
   "source": []
  },
  {
   "cell_type": "code",
   "execution_count": 1,
   "metadata": {},
   "outputs": [],
   "source": [
    "import pandas as pd\n",
    "\n",
    "from src.pipelines import pipeline_data_collection, pipeline_data_processing\n",
    "\n",
    "pd.set_option('display.max_columns', 50)"
   ]
  },
  {
   "cell_type": "markdown",
   "metadata": {},
   "source": [
    "# Data collection"
   ]
  },
  {
   "cell_type": "code",
   "execution_count": null,
   "metadata": {},
   "outputs": [],
   "source": [
    "update_tables = dict(despesas=True, \n",
    "                     deputados=False)\n",
    "id_deputados_to_fetch = [220526, 178873, 220527, 220530, 160517, \n",
    "                         220528, 204356, 204355, 178871, 220529]\n",
    "start_date = '2024-05-01'\n",
    "end_date = '2024-05-01'\n",
    "\n",
    "pipeline_data_collection(update_tables, id_deputados_to_fetch, start_date, end_date)"
   ]
  },
  {
   "cell_type": "code",
   "execution_count": null,
   "metadata": {},
   "outputs": [],
   "source": [
    "update_tables = dict(despesas=True, \n",
    "                     deputados=True)\n",
    "\n",
    "pipeline_data_processing(update_tables)"
   ]
  },
  {
   "cell_type": "code",
   "execution_count": null,
   "metadata": {},
   "outputs": [],
   "source": [
    "tmp=pd.read_parquet(r\"D:\\DADOS\\Downloads\\stats_per_group.parquet\")"
   ]
  },
  {
   "cell_type": "code",
   "execution_count": null,
   "metadata": {},
   "outputs": [],
   "source": [
    "process_gold_table()"
   ]
  },
  {
   "cell_type": "code",
   "execution_count": null,
   "metadata": {},
   "outputs": [],
   "source": [
    "import plotly.graph_objects as go\n",
    "import plotly.express as px"
   ]
  },
  {
   "cell_type": "code",
   "execution_count": null,
   "metadata": {},
   "outputs": [],
   "source": [
    "tmp = df.groupby(['id_deputado', 'ano_mes'])[['valorDocumento']].sum()\n",
    "tmp.reset_index(inplace=True)\n",
    "tmp = pd.merge(tmp, deputados, how='left', left_on='id_deputado', right_index=True)"
   ]
  },
  {
   "cell_type": "code",
   "execution_count": null,
   "metadata": {},
   "outputs": [],
   "source": [
    "px.bar(df.loc[df['ano_mes']=='2024_04'], x='nome', y='valorDocumento', color='tipoDespesa')"
   ]
  },
  {
   "cell_type": "code",
   "execution_count": null,
   "metadata": {},
   "outputs": [],
   "source": [
    "df.groupby('nomeFornecedor')['valorDocumento'].sum().sort_values(ascending=False).head(10)"
   ]
  },
  {
   "cell_type": "code",
   "execution_count": null,
   "metadata": {},
   "outputs": [],
   "source": [
    "df.loc[(df['nome'].str.contains('Linhalis')) & (df['ano_mes']=='2023_12') & (df['valorDocumento'].between(10000, 13000)), ['urlDocumento']].values"
   ]
  },
  {
   "cell_type": "code",
   "execution_count": null,
   "metadata": {},
   "outputs": [],
   "source": [
    "px.line(tmp, x='ano_mes', y='valorDocumento', color='nome')"
   ]
  },
  {
   "cell_type": "code",
   "execution_count": null,
   "metadata": {},
   "outputs": [],
   "source": [
    "import plotly.graph_objects as go\n",
    "import plotly.express as px\n",
    "tmp = df.groupby(['id_deputado', 'ano_mes'])[['valorDocumento']].sum()\n",
    "\n",
    "fig = go.Figure()\n",
    "for k, tmpdf in df.groupby(['id_deputado']):\n",
    "    px.line(tmp.loc[dep], y='valorDocumento')\n",
    "    # fig.add_trace(px.line(tmp.loc[dep], y='valorDocumento'))\n",
    "fig.show()"
   ]
  },
  {
   "cell_type": "markdown",
   "metadata": {},
   "source": [
    "# Rascunho"
   ]
  },
  {
   "cell_type": "code",
   "execution_count": null,
   "metadata": {},
   "outputs": [],
   "source": [
    "def pipeline_data_collection():\n",
    "    info_datasets = {} # config\n",
    "    reprocessing_status = {}\n",
    "    for dataset in info_datasets.keys():\n",
    "        df = collect_data(dataset)\n",
    "        reprocessing_status[dataset] = get_reprocessing_status()\n",
    "        if reprocessing_status[dataset]:\n",
    "            save_data(df)\n",
    "\n",
    "    save_data(reprocessing_status)"
   ]
  },
  {
   "cell_type": "code",
   "execution_count": null,
   "metadata": {},
   "outputs": [],
   "source": [
    "def pipeline_data_processing():\n",
    "    \n",
    "    process_deputados()\n",
    "    process_despesas()"
   ]
  },
  {
   "cell_type": "code",
   "execution_count": null,
   "metadata": {},
   "outputs": [],
   "source": [
    "pipeline_data_collection()\n",
    "\n",
    "pipeline_data_processing()\n",
    "\n",
    "update_website()"
   ]
  }
 ],
 "metadata": {
  "kernelspec": {
   "display_name": "Python 3",
   "language": "python",
   "name": "python3"
  },
  "language_info": {
   "codemirror_mode": {
    "name": "ipython",
    "version": 3
   },
   "file_extension": ".py",
   "mimetype": "text/x-python",
   "name": "python",
   "nbconvert_exporter": "python",
   "pygments_lexer": "ipython3",
   "version": "3.12.3"
  }
 },
 "nbformat": 4,
 "nbformat_minor": 2
}

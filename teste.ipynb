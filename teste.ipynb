{
 "cells": [
  {
   "cell_type": "code",
   "execution_count": 1,
   "metadata": {},
   "outputs": [],
   "source": [
    "import pandas as pd\n",
    "\n",
    "from src.pipelines import pipeline_data_collection, pipeline_data_processing\n",
    "\n",
    "pd.set_option('display.max_columns', 50)"
   ]
  },
  {
   "cell_type": "markdown",
   "metadata": {},
   "source": [
    "# Data collection"
   ]
  },
  {
   "cell_type": "code",
   "execution_count": null,
   "metadata": {},
   "outputs": [],
   "source": [
    "update_tables = dict(despesas=True, \n",
    "                     deputados=False)\n",
    "id_deputados_to_fetch = [220526, 178873, 220527, 220530, 160517, \n",
    "                         220528, 204356, 204355, 178871, 220529]\n",
    "start_date = '2024-05-01'\n",
    "end_date = '2024-05-01'\n",
    "\n",
    "pipeline_data_collection(update_tables, id_deputados_to_fetch, start_date, end_date)"
   ]
  },
  {
   "cell_type": "markdown",
   "metadata": {},
   "source": [
    "# Data preprocessing"
   ]
  },
  {
   "cell_type": "code",
   "execution_count": null,
   "metadata": {},
   "outputs": [],
   "source": [
    "update_tables = dict(despesas=True, \n",
    "                     deputados=False)\n",
    "\n",
    "pipeline_data_processing(update_tables)"
   ]
  },
  {
   "cell_type": "markdown",
   "metadata": {},
   "source": [
    "# tests"
   ]
  },
  {
   "cell_type": "code",
   "execution_count": null,
   "metadata": {},
   "outputs": [],
   "source": [
    "df = pd.read_parquet('data/gold/master_table.parquet')\n",
    "df_mes = pd.read_parquet('data/gold/monthly_data.parquet')"
   ]
  },
  {
   "cell_type": "code",
   "execution_count": null,
   "metadata": {},
   "outputs": [],
   "source": [
    "df.head(1)"
   ]
  },
  {
   "cell_type": "code",
   "execution_count": null,
   "metadata": {},
   "outputs": [],
   "source": [
    "df_mes"
   ]
  },
  {
   "cell_type": "markdown",
   "metadata": {},
   "source": [
    "## gasto medio por deputado"
   ]
  },
  {
   "cell_type": "code",
   "execution_count": null,
   "metadata": {},
   "outputs": [],
   "source": [
    "periodos = ['2024_05']\n",
    "\n",
    "df_filtrado = df.loc[df['ano_mes'].isin(periodos)].copy()\n",
    "mensal_filtrado = df_mes.loc[df_mes['ano_mes'].isin(periodos)].copy()"
   ]
  },
  {
   "cell_type": "code",
   "execution_count": null,
   "metadata": {},
   "outputs": [],
   "source": [
    "def calc_avg_spend_from_period(df):\n",
    "    spend = df.groupby('ano_mes')['Valor'].mean().mean()\n",
    "    return f\"R$ {round(spend, 2)}\"\n",
    "\n",
    "calc_avg_spend_from_period(mensal_filtrado)"
   ]
  },
  {
   "cell_type": "code",
   "execution_count": null,
   "metadata": {},
   "outputs": [],
   "source": [
    "import plotly.graph_objects as go\n",
    "import plotly.express as px"
   ]
  },
  {
   "cell_type": "markdown",
   "metadata": {},
   "source": [
    "## grafico por deputado e tipo de despesa"
   ]
  },
  {
   "cell_type": "code",
   "execution_count": null,
   "metadata": {},
   "outputs": [],
   "source": [
    "px.bar(df.loc[df['ano_mes']=='2024_04'], x='nome', y='valorDocumento', color='tipoDespesa')"
   ]
  },
  {
   "cell_type": "markdown",
   "metadata": {},
   "source": [
    "## deputado que mais gastou por tipo de despesa"
   ]
  },
  {
   "cell_type": "code",
   "execution_count": null,
   "metadata": {},
   "outputs": [],
   "source": [
    "\n"
   ]
  },
  {
   "cell_type": "code",
   "execution_count": null,
   "metadata": {},
   "outputs": [],
   "source": [
    "mais_gastou_por_tipo = dict()\n",
    "tmp = df_filtrado.groupby(['nome', 'tipoDespesa'])['Valor'].sum().reset_index().copy()\n",
    "for tipo, tmpdf in tmp.groupby('tipoDespesa'):\n",
    "    result_tipo = tmpdf.loc[tmpdf['Valor']==tmpdf['Valor'].max(), :].copy()\n",
    "    mais_gastou_por_tipo[tipo] = dict(Deputado=result_tipo['nome'].values[0], \n",
    "                                        Valor = result_tipo['Valor'].values[0])\n",
    "    # tmp[tmp==tmp.max()]:\n",
    "\n",
    "mais_gastou_por_tipo = pd.DataFrame(mais_gastou_por_tipo).T.sort_values('Valor', ascending=False)\n",
    "mais_gastou_por_tipo"
   ]
  },
  {
   "cell_type": "code",
   "execution_count": null,
   "metadata": {},
   "outputs": [],
   "source": [
    "mais_gastou_por_tipo = dict()\n",
    "tmp = df_filtrado.groupby(['nome', 'tipoDespesa'])['Valor'].sum().reset_index().copy()\n",
    "for tipo_despesa in tmp['tipoDespesa'].unique():\n",
    "    result = tmp.loc[tmp['tipoDespesa']==tipo_despesa].copy()\n",
    "    result = result.loc[result['Valor']==result['Valor'].max(), :].copy()\n",
    "    mais_gastou_por_tipo[tipo_despesa] = dict(Deputado=result['nome'].values[0], \n",
    "                                        Valor = result['Valor'].values[0])\n",
    "    # tmp[tmp==tmp.max()]:\n"
   ]
  },
  {
   "cell_type": "code",
   "execution_count": null,
   "metadata": {},
   "outputs": [],
   "source": [
    "pd.DataFrame(mais_gastou_por_tipo).T"
   ]
  },
  {
   "cell_type": "code",
   "execution_count": null,
   "metadata": {},
   "outputs": [],
   "source": [
    "for deputado, tmpdf in df_filtrado.groupby('deputado'):\n",
    "    tmpdf.loc[tmpdf['Valor']]\n"
   ]
  },
  {
   "cell_type": "code",
   "execution_count": null,
   "metadata": {},
   "outputs": [],
   "source": []
  },
  {
   "cell_type": "code",
   "execution_count": null,
   "metadata": {},
   "outputs": [],
   "source": [
    "df.groupby('nomeFornecedor')['valorDocumento'].sum().sort_values(ascending=False).head(10)"
   ]
  },
  {
   "cell_type": "code",
   "execution_count": null,
   "metadata": {},
   "outputs": [],
   "source": [
    "df.loc[(df['nome'].str.contains('Linhalis')) & (df['ano_mes']=='2023_12') & (df['valorDocumento'].between(10000, 13000)), ['urlDocumento']].values"
   ]
  },
  {
   "cell_type": "code",
   "execution_count": null,
   "metadata": {},
   "outputs": [],
   "source": [
    "px.line(tmp, x='ano_mes', y='valorDocumento', color='nome')"
   ]
  },
  {
   "cell_type": "code",
   "execution_count": null,
   "metadata": {},
   "outputs": [],
   "source": [
    "import plotly.graph_objects as go\n",
    "import plotly.express as px\n",
    "tmp = df.groupby(['id_deputado', 'ano_mes'])[['valorDocumento']].sum()\n",
    "\n",
    "fig = go.Figure()\n",
    "for k, tmpdf in df.groupby(['id_deputado']):\n",
    "    px.line(tmp.loc[dep], y='valorDocumento')\n",
    "    # fig.add_trace(px.line(tmp.loc[dep], y='valorDocumento'))\n",
    "fig.show()"
   ]
  },
  {
   "cell_type": "markdown",
   "metadata": {},
   "source": [
    "# Rascunho"
   ]
  },
  {
   "cell_type": "code",
   "execution_count": null,
   "metadata": {},
   "outputs": [],
   "source": [
    "def pipeline_data_collection():\n",
    "    info_datasets = {} # config\n",
    "    reprocessing_status = {}\n",
    "    for dataset in info_datasets.keys():\n",
    "        df = collect_data(dataset)\n",
    "        reprocessing_status[dataset] = get_reprocessing_status()\n",
    "        if reprocessing_status[dataset]:\n",
    "            save_data(df)\n",
    "\n",
    "    save_data(reprocessing_status)"
   ]
  },
  {
   "cell_type": "code",
   "execution_count": null,
   "metadata": {},
   "outputs": [],
   "source": [
    "def pipeline_data_processing():\n",
    "    \n",
    "    process_deputados()\n",
    "    process_despesas()"
   ]
  },
  {
   "cell_type": "code",
   "execution_count": null,
   "metadata": {},
   "outputs": [],
   "source": [
    "pipeline_data_collection()\n",
    "\n",
    "pipeline_data_processing()\n",
    "\n",
    "update_website()"
   ]
  }
 ],
 "metadata": {
  "kernelspec": {
   "display_name": "Python 3",
   "language": "python",
   "name": "python3"
  },
  "language_info": {
   "codemirror_mode": {
    "name": "ipython",
    "version": 3
   },
   "file_extension": ".py",
   "mimetype": "text/x-python",
   "name": "python",
   "nbconvert_exporter": "python",
   "pygments_lexer": "ipython3",
   "version": "3.12.3"
  }
 },
 "nbformat": 4,
 "nbformat_minor": 2
}

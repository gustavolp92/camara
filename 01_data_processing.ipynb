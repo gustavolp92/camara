{
 "cells": [
  {
   "cell_type": "code",
   "execution_count": 1,
   "metadata": {},
   "outputs": [],
   "source": [
    "import pandas as pd\n",
    "\n",
    "from src.pipelines import pipeline_data_collection, pipeline_data_processing"
   ]
  },
  {
   "cell_type": "code",
   "execution_count": 2,
   "metadata": {},
   "outputs": [
    {
     "name": "stdout",
     "output_type": "stream",
     "text": [
      "ID:220526, 2024-04: 48 registros\n",
      "ID:220526, 2024-05: 59 registros\n",
      "ID:220526, 2024-06: 6 registros\n",
      "ID:178873, 2024-04: 49 registros\n",
      "ID:178873, 2024-05: 39 registros\n",
      "ID:178873, 2024-06: 3 registros\n",
      "ID:220527, 2024-04: 43 registros\n",
      "ID:220527, 2024-05: 34 registros\n",
      "ID:220527, 2024-06: 9 registros\n",
      "ID:220530, 2024-04: 28 registros\n",
      "ID:220530, 2024-05: 33 registros\n",
      "ID:220530, 2024-06: 8 registros\n",
      "ID:160517, 2024-04: 15 registros\n",
      "ID:160517, 2024-05: 8 registros\n",
      "ID:160517, 2024-06: 0 registros\n",
      "ID:220528, 2024-04: 30 registros\n",
      "ID:220528, 2024-05: 13 registros\n",
      "ID:220528, 2024-06: 0 registros\n",
      "ID:204356, 2024-04: 27 registros\n",
      "ID:204356, 2024-05: 11 registros\n",
      "ID:204356, 2024-06: 0 registros\n",
      "ID:204355, 2024-04: 27 registros\n",
      "ID:204355, 2024-05: 25 registros\n",
      "ID:204355, 2024-06: 0 registros\n",
      "ID:178871, 2024-04: 39 registros\n",
      "ID:178871, 2024-05: 18 registros\n",
      "ID:178871, 2024-06: 13 registros\n",
      "ID:220529, 2024-04: 27 registros\n",
      "ID:220529, 2024-05: 29 registros\n",
      "ID:220529, 2024-06: 5 registros\n"
     ]
    }
   ],
   "source": [
    "update_tables = dict(despesas=True, \n",
    "                     deputados=False)\n",
    "id_deputados_to_fetch = [220526, 178873, 220527, 220530, 160517, \n",
    "                         220528, 204356, 204355, 178871, 220529]\n",
    "start_date = '2024-05-01'\n",
    "end_date = '2024-06-01'\n",
    "\n",
    "pipeline_data_collection(update_tables, id_deputados_to_fetch, start_date, end_date)"
   ]
  },
  {
   "cell_type": "code",
   "execution_count": 3,
   "metadata": {},
   "outputs": [
    {
     "name": "stdout",
     "output_type": "stream",
     "text": [
      "Table 'master_table' shape: (5151, 28)\n",
      "Table 'monthly_data' shape: (5151, 28)\n"
     ]
    }
   ],
   "source": [
    "update_tables = dict(despesas=True, \n",
    "                     deputados=False)\n",
    "\n",
    "pipeline_data_processing(update_tables)"
   ]
  },
  {
   "cell_type": "code",
   "execution_count": 7,
   "metadata": {},
   "outputs": [
    {
     "name": "stdout",
     "output_type": "stream",
     "text": [
      "Finished data processing.\n"
     ]
    }
   ],
   "source": [
    "print(\"Finished data processing.\")"
   ]
  }
 ],
 "metadata": {
  "kernelspec": {
   "display_name": "env_camara",
   "language": "python",
   "name": "python3"
  },
  "language_info": {
   "codemirror_mode": {
    "name": "ipython",
    "version": 3
   },
   "file_extension": ".py",
   "mimetype": "text/x-python",
   "name": "python",
   "nbconvert_exporter": "python",
   "pygments_lexer": "ipython3",
   "version": "3.12.3"
  }
 },
 "nbformat": 4,
 "nbformat_minor": 2
}
